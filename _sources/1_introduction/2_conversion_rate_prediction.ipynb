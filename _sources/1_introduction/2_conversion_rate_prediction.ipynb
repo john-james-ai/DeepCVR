{
 "cells": [
  {
   "cell_type": "markdown",
   "id": "25f0287f",
   "metadata": {},
   "source": [
    "# Conversion Rate Prediction\n",
    "Yet, predicting user behavior in a real-time, data-intensive, context has its challenges {cite}`gharibshahUserResponsePrediction2021`.\n",
    "\n",
    "-\t**Scalability**: Of the 7.7 billion people in the world, 3.5 billion are online {cite}`owidinternet` and most of us will encounter between 4,000 and 10,000 per day {cite}`simpsonCouncilPostFinding`. The top 10 online advertisers of 2020 generated over 90 billion impressions in the 1st quarter alone {cite}`TopOnlineAdvertisers`. Machine learning approaches to predict user response must be built to scale.\n",
    "-\t**Conversion Rarity**: Median conversion rates for eCommerce are in the range of 2.35% to 5.31% across all industries {cite}`WhatGoodConversion2014`, still average conversion rate among eCommerce companies fall between 1.84% and 3.71% {cite}`EcommerceConversionRates2022`.\n",
    "-\t**Data Sparsity**: Two factors contribute to the sparsity of data. First, most of the input data are binary representations of categorical features, resulting in high-dimensional vectors with few non-zero values. Second user interactions follow the power-law distribution whereby the majority of users are interacting with a relatively small number of items or products.\n",
    "-\t**Delayed Conversion Feedback**: Though the time between an ad impression and a click may be seconds, the time delay between a click and a conversion could be hours, days, or longer. Today, machine learning solutions must be able to predict in the context of this delayed feedback.\n",
    "\n",
    "DeepCVR explores state-of-the-art deep learning methods to improve conversion rate prediction for the online advertising industry. Starting with baseline logistic regression models, we’ll explore supervised techniques such as factorization machines, multi-layer perceptron, convolutional neural network, recurrent neural network, and neural attention network architectures."
   ]
  }
 ],
 "metadata": {
  "jupytext": {
   "text_representation": {
    "extension": ".md",
    "format_name": "myst",
    "format_version": 0.13,
    "jupytext_version": "1.10.3"
   }
  },
  "kernelspec": {
   "display_name": "Python3",
   "language": "python3",
   "name": "python3"
  },
  "language_info": {
   "codemirror_mode": {
    "name": "ipython",
    "version": 3
   },
   "file_extension": ".py",
   "mimetype": "text/x-python",
   "name": "python",
   "nbconvert_exporter": "python",
   "pygments_lexer": "ipython3",
   "version": "3.10.4"
  },
  "source_map": [
   12
  ]
 },
 "nbformat": 4,
 "nbformat_minor": 5
}