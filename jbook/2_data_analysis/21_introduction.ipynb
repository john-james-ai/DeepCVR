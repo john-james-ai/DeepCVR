{
 "cells": [
  {
   "cell_type": "markdown",
   "metadata": {},
   "source": [
    "# Introduction\n",
    "This segment provides first insights into the data and illuminates underlying patterns in user behavior vis-a-vis advertising campaigns. \n",
    "\n",
    "[Section 2.2](section_22_data_acquisition) extracts and stages the data for downstream analysis. [Section 2.3](section_23_data_profile) profiles the data to assess data quality, suitability for purpose, and the scope of data preprocessing required. [Section 2.4](section_24_data_preprocessing) formats and transforms the data to facilitate analysis. Finally, [Section 2.5](section_25_eda) is an exploratory data analysis designed to reveal insights into user behavior vis-a-vis advertising campaigns. \n",
    "\n"
   ]
  }
 ],
 "metadata": {
  "language_info": {
   "name": "python"
  },
  "orig_nbformat": 4
 },
 "nbformat": 4,
 "nbformat_minor": 2
}
