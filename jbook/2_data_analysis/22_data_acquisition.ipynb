{
 "cells": [
  {
   "cell_type": "markdown",
   "metadata": {},
   "source": [
    "(section_22_data_acquisition)=\n",
    "# Data Acquisition\n"
   ]
  },
  {
   "cell_type": "markdown",
   "metadata": {},
   "source": [
    "Refer to  https://www.netquest.com/blog/en/random-sampling-stratified-sampling for sampling techniques"
   ]
  },
  {
   "cell_type": "code",
   "execution_count": 1,
   "metadata": {
    "tags": [
     "hide-cell"
    ]
   },
   "outputs": [],
   "source": [
    "# Imports\n",
    "import os\n",
    "import sys\n",
    "from IPython import display\n",
    "import logging\n",
    "import inspect\n",
    "import tarfile\n",
    "import shutil\n",
    "import tempfile"
   ]
  },
  {
   "cell_type": "code",
   "execution_count": 2,
   "metadata": {
    "tags": [
     "hide-cell",
     "remove-cell"
    ]
   },
   "outputs": [],
   "source": [
    "# REMOVE-CELL\n",
    "home = \"/home/john/projects/deepcvr\"\n",
    "os.chdir(home)"
   ]
  },
  {
   "cell_type": "code",
   "execution_count": 3,
   "metadata": {
    "tags": [
     "hide-cell"
    ]
   },
   "outputs": [],
   "source": [
    "# \n",
    "# %load -s Extractor deepcvr/data/extract.py\n",
    "class Extractor:\n",
    "    \"\"\"Decompresses a gzip archive, stores the raw data and pushes the filepaths to xCom\n",
    "\n",
    "    Args:\n",
    "        source (str): The source filepath\n",
    "        destination (str): The destination directory\n",
    "    \"\"\"\n",
    "\n",
    "    def __init__(self, source: str, destination: str) -> None:\n",
    "\n",
    "        self._source = source\n",
    "        self._destination = destination\n",
    "\n",
    "    def execute(self) -> None:\n",
    "        \"\"\"Extracts and stores the data, then pushes filepaths to xCom. \"\"\"\n",
    "\n",
    "        if not self._exists():\n",
    "            # Recursively extract data and store in destination directory\n",
    "            self._extract(self._source)\n",
    "\n",
    "        # Extract filepaths for all data downloaded and extracted\n",
    "        filepaths = self._get_filepaths()\n",
    "\n",
    "        return filepaths\n",
    "\n",
    "    def _exists(self) -> bool:\n",
    "        \"\"\"Checks destination directory and returns True if not empty. False otherwise.\"\"\"\n",
    "\n",
    "        return len(os.listdir(self._destination)) > 0\n",
    "\n",
    "    def _extract(self, filepath: str) -> None:\n",
    "        \"\"\"Extracts the data and returns the extracted filepaths\"\"\"\n",
    "\n",
    "        if tarfile.is_tarfile(filepath):\n",
    "            with tempfile.TemporaryDirectory() as tempdirname:\n",
    "                data = tarfile.open(filepath)\n",
    "                for member in data.getmembers():\n",
    "                    # If the file already exists, skip this step\n",
    "                    filepath = os.path.join(tempdirname, member.name)\n",
    "                    data.extract(member, tempdirname)\n",
    "                    return self._extract(filepath)\n",
    "        else:\n",
    "            self._savefile(filepath)\n",
    "\n",
    "    def _savefile(self, filepath: str) -> None:\n",
    "        \"\"\"Saves file to destination and adds name and filepath to filepaths dictionary\n",
    "\n",
    "        Args:\n",
    "            filepath (str): the path to the extracted file in the temp directory\n",
    "        \"\"\"\n",
    "\n",
    "        # Create destination filepath and move the file\n",
    "        destination = os.path.join(self._destination, os.path.basename(filepath))\n",
    "        os.makedirs(os.path.dirname(destination), exist_ok=True)\n",
    "        shutil.move(filepath, destination)\n",
    "\n",
    "    def _get_filepaths(self) -> dict:\n",
    "        \"\"\"Creates a dictionary of destination file paths.\"\"\"\n",
    "        filepaths = {}\n",
    "\n",
    "        filenames = os.listdir(self._destination)\n",
    "        if len(filenames) > 0:\n",
    "            for filename in filenames:\n",
    "                filepath = os.path.join(self._destination, filename)\n",
    "                name = os.path.splitext(filename)[0]\n",
    "                filepaths[name] = filepath\n",
    "        else:\n",
    "            msg = \"Destination directory is empty\"\n",
    "            raise FileNotFoundError(msg)\n",
    "\n",
    "        return filepaths\n"
   ]
  }
 ],
 "metadata": {
  "interpreter": {
   "hash": "b4c1728eb1d2e5aa0ad9cb608f2ae480dc35c5197350e729ffcd56015e38fc7c"
  },
  "kernelspec": {
   "display_name": "Python 3.8.12 ('deepcvr')",
   "language": "python",
   "name": "python3"
  },
  "language_info": {
   "codemirror_mode": {
    "name": "ipython",
    "version": 3
   },
   "file_extension": ".py",
   "mimetype": "text/x-python",
   "name": "python",
   "nbconvert_exporter": "python",
   "pygments_lexer": "ipython3",
   "version": "3.8.12"
  }
 },
 "nbformat": 4,
 "nbformat_minor": 2
}
