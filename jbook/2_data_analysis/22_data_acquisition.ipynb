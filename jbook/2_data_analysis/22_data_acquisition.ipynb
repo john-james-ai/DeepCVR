{
 "cells": [
  {
   "cell_type": "markdown",
   "metadata": {},
   "source": [
    "(section_22_data_acquisition)=\n",
    "# Data Acquisition\n"
   ]
  },
  {
   "cell_type": "markdown",
   "metadata": {},
   "source": [
    "This section describes the methods used to acquire the data. Our data pipeline will:\n",
    "\n",
    "1. Download the data from its source site, \n",
    "2. Extract and secure the raw training and test set data,  \n",
    "3. Merge the core and common features datasets,  \n",
    "4. Store the data in a MySQL Datbase, then     \n",
    "5. Subsample the data for profiling and analysis.\n",
    "\n",
    "## Reproducibility\n",
    "To run this notebook on the cloud, click on the shuttle icon in the external links at the top right of the page. This will launch the notebook on a Google Colab instance. The data may be obtained from [Alibaba's Tianchi website](https://tianchi.aliyun.com/dataset/dataDetail?dataId=408); however, we will be downloading the files from an Amazon AWS server. \n",
    "\n",
    "```{tip} Acquisition Imports\n",
    ":class: dropdown \n",
    "To view source code in this notebook, click on the icon 'Click to show' to the right.\n",
    "```"
   ]
  },
  {
   "cell_type": "code",
   "execution_count": 1,
   "metadata": {
    "tags": [
     "hide-cell"
    ]
   },
   "outputs": [],
   "source": [
    "# Imports\n",
    "import os\n",
    "import sys\n",
    "from IPython import display\n",
    "import logging\n",
    "import inspect\n",
    "import tarfile\n",
    "import shutil\n",
    "import tempfile"
   ]
  },
  {
   "cell_type": "code",
   "execution_count": 2,
   "metadata": {
    "tags": [
     "hide-cell",
     "remove-cell"
    ]
   },
   "outputs": [],
   "source": [
    "# REMOVE-CELL\n",
    "home = \"/home/john/projects/deepcvr\"\n",
    "os.chdir(home)"
   ]
  },
  {
   "cell_type": "markdown",
   "metadata": {},
   "source": [
    "## Extract\n",
    "### Download Data\n",
    "Here we download and extract the data from compressed archive files. The Amazon AWS access credentials are stored in a configuration file which will parameterize our download function. \n"
   ]
  },
  {
   "cell_type": "markdown",
   "metadata": {},
   "source": [
    "### Extract Raw Data\n",
    "The files have been downloaded to our project external data directory at data/external. Next, we'll extract the CSV files from the archive and secure the raw data in our raw directory, data/raw. The following code extracts the data and returns the filepaths. "
   ]
  },
  {
   "cell_type": "code",
   "execution_count": 1,
   "metadata": {
    "tags": [
     "hide-cell"
    ]
   },
   "outputs": [],
   "source": [
    "# %load -s Extractor deepcvr/data/extract.py\n",
    "class Extractor:\n",
    "    \"\"\"Decompresses a gzip archive, stores the raw data and pushes the filepaths to xCom\n",
    "\n",
    "    Args:\n",
    "        source (str): The source filepath\n",
    "        destination (str): The destination directory\n",
    "    \"\"\"\n",
    "\n",
    "    def __init__(self) -> None:\n",
    "\n",
    "        self._source = None\n",
    "        self._destination = None\n",
    "\n",
    "    def execute(self, source: str, destination: str) -> None:\n",
    "        \"\"\"Extracts and stores the data, then pushes filepaths to xCom. \"\"\"\n",
    "\n",
    "        self._source = source\n",
    "        self._destination = destination\n",
    "\n",
    "        if not self._exists():\n",
    "            # Recursively extract data and store in destination directory\n",
    "            self._extract(self._source)\n",
    "\n",
    "        # Extract filepaths for all data downloaded and extracted\n",
    "        filepaths = self._get_filepaths()\n",
    "\n",
    "        return filepaths\n",
    "\n",
    "    def _exists(self) -> bool:\n",
    "        \"\"\"Checks destination directory and returns True if not empty. False otherwise.\"\"\"\n",
    "\n",
    "        return len(os.listdir(self._destination)) > 0\n",
    "\n",
    "    def _extract(self, filepath: str) -> None:\n",
    "        \"\"\"Extracts the data and returns the extracted filepaths\"\"\"\n",
    "\n",
    "        if tarfile.is_tarfile(filepath):\n",
    "            with tempfile.TemporaryDirectory() as tempdirname:\n",
    "                data = tarfile.open(filepath)\n",
    "                for member in data.getmembers():\n",
    "                    # If the file already exists, skip this step\n",
    "                    filepath = os.path.join(tempdirname, member.name)\n",
    "                    data.extract(member, tempdirname)\n",
    "                    return self._extract(filepath)\n",
    "        else:\n",
    "            self._savefile(filepath)\n",
    "\n",
    "    def _savefile(self, filepath: str) -> None:\n",
    "        \"\"\"Saves file to destination and adds name and filepath to filepaths dictionary\n",
    "\n",
    "        Args:\n",
    "            filepath (str): the path to the extracted file in the temp directory\n",
    "        \"\"\"\n",
    "\n",
    "        # Create destination filepath and move the file\n",
    "        destination = os.path.join(self._destination, os.path.basename(filepath))\n",
    "        os.makedirs(os.path.dirname(destination), exist_ok=True)\n",
    "        shutil.move(filepath, destination)\n",
    "\n",
    "    def _get_filepaths(self) -> dict:\n",
    "        \"\"\"Creates a dictionary of destination file paths.\"\"\"\n",
    "        filepaths = {}\n",
    "\n",
    "        filenames = os.listdir(self._destination)\n",
    "        if len(filenames) > 0:\n",
    "            for filename in filenames:\n",
    "                filepath = os.path.join(self._destination, filename)\n",
    "                name = os.path.splitext(filename)[0]\n",
    "                filepaths[name] = filepath\n",
    "        else:\n",
    "            msg = \"Destination directory is empty\"\n",
    "            raise FileNotFoundError(msg)\n",
    "\n",
    "        return filepaths\n"
   ]
  },
  {
   "cell_type": "code",
   "execution_count": null,
   "metadata": {},
   "outputs": [],
   "source": [
    "source = \"data/external/taobao_train.tar.gz\"\n",
    "destination = 'data/raw'\n",
    "extractor = Extractor()\n",
    "filenames = extractor.execute(source=source, destination=destination)"
   ]
  },
  {
   "cell_type": "markdown",
   "metadata": {
    "tags": [
     "remove-cell"
    ]
   },
   "source": [
    "# REMOVE-CELL\n",
    "# References and Notes\n",
    "Refer to  https://www.netquest.com/blog/en/random-sampling-stratified-sampling for sampling techniques"
   ]
  }
 ],
 "metadata": {
  "interpreter": {
   "hash": "b4c1728eb1d2e5aa0ad9cb608f2ae480dc35c5197350e729ffcd56015e38fc7c"
  },
  "kernelspec": {
   "display_name": "Python 3.8.12 ('deepcvr')",
   "language": "python",
   "name": "python3"
  },
  "language_info": {
   "codemirror_mode": {
    "name": "ipython",
    "version": 3
   },
   "file_extension": ".py",
   "mimetype": "text/x-python",
   "name": "python",
   "nbconvert_exporter": "python",
   "pygments_lexer": "ipython3",
   "version": "3.8.12"
  }
 },
 "nbformat": 4,
 "nbformat_minor": 2
}
