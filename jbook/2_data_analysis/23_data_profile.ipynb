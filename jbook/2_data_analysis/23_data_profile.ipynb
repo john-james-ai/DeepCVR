{
 "cells": [
  {
   "cell_type": "markdown",
   "metadata": {},
   "source": [
    "(section_23_data_profile)=\n",
    "# Data Profile\n"
   ]
  }
 ],
 "metadata": {
  "language_info": {
   "name": "python"
  }
 },
 "nbformat": 4,
 "nbformat_minor": 2
}
