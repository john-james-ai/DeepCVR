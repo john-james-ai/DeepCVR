{
 "cells": [
  {
   "cell_type": "markdown",
   "metadata": {},
   "source": [
    "# ETL\n",
    "## Development Datasets\n",
    "Create development datasets consisting of the top 'nrows' observations from each file"
   ]
  },
  {
   "cell_type": "code",
   "execution_count": 1,
   "metadata": {},
   "outputs": [],
   "source": [
    "# Imports\n",
    "import pandas as pd"
   ]
  },
  {
   "cell_type": "code",
   "execution_count": 2,
   "metadata": {},
   "outputs": [],
   "source": [
    "# Constants \n",
    "NROWS = 10000\n",
    "FILEPATH_TRAIN_CORE_RAW = \"data/raw/sample_skeleton_train.csv\"\n",
    "FILEPATH_TRAIN_CORE_DEVELOPMENT = \"data/development/sample_skeleton_train.csv\"\n",
    "FILEPATH_TRAIN_COMMON_FEATURES_RAW = \"data/raw/common_features_train.csv\"\n",
    "FILEPATH_TRAIN_COMMON_FEATURES_DEVELOPMENT = \"data/development/common_features_train.csv\"\n"
   ]
  },
  {
   "cell_type": "code",
   "execution_count": 3,
   "metadata": {},
   "outputs": [
    {
     "data": {
      "text/html": [
       "<div>\n",
       "<style scoped>\n",
       "    .dataframe tbody tr th:only-of-type {\n",
       "        vertical-align: middle;\n",
       "    }\n",
       "\n",
       "    .dataframe tbody tr th {\n",
       "        vertical-align: top;\n",
       "    }\n",
       "\n",
       "    .dataframe thead th {\n",
       "        text-align: right;\n",
       "    }\n",
       "</style>\n",
       "<table border=\"1\" class=\"dataframe\">\n",
       "  <thead>\n",
       "    <tr style=\"text-align: right;\">\n",
       "      <th></th>\n",
       "      <th>0</th>\n",
       "      <th>1</th>\n",
       "      <th>2</th>\n",
       "      <th>3</th>\n",
       "      <th>4</th>\n",
       "      <th>5</th>\n",
       "    </tr>\n",
       "  </thead>\n",
       "  <tbody>\n",
       "    <tr>\n",
       "      <th>0</th>\n",
       "      <td>1</td>\n",
       "      <td>0</td>\n",
       "      <td>0</td>\n",
       "      <td>bacff91692951881</td>\n",
       "      <td>9</td>\n",
       "      <td>210\u00029052218\u00031.0\u0001210\u00029064553\u00031.0\u0001210\u00029093445\u00031....</td>\n",
       "    </tr>\n",
       "    <tr>\n",
       "      <th>1</th>\n",
       "      <td>2</td>\n",
       "      <td>0</td>\n",
       "      <td>0</td>\n",
       "      <td>bacff91692951881</td>\n",
       "      <td>10</td>\n",
       "      <td>210\u00029109732\u00031.0\u0001210\u00029046284\u00031.0\u0001210\u00029099035\u00031....</td>\n",
       "    </tr>\n",
       "    <tr>\n",
       "      <th>2</th>\n",
       "      <td>3</td>\n",
       "      <td>1</td>\n",
       "      <td>0</td>\n",
       "      <td>bacff91692951881</td>\n",
       "      <td>20</td>\n",
       "      <td>210\u00029089731\u00031.0\u0001210\u00029047560\u00031.0\u0001509\u00029511769\u00032....</td>\n",
       "    </tr>\n",
       "    <tr>\n",
       "      <th>3</th>\n",
       "      <td>4</td>\n",
       "      <td>0</td>\n",
       "      <td>0</td>\n",
       "      <td>bacff91692951881</td>\n",
       "      <td>13</td>\n",
       "      <td>301\u00029351665\u00031.0\u0001210\u00029050364\u00031.0\u0001210\u00029083388\u00031....</td>\n",
       "    </tr>\n",
       "    <tr>\n",
       "      <th>4</th>\n",
       "      <td>5</td>\n",
       "      <td>0</td>\n",
       "      <td>0</td>\n",
       "      <td>bacff91692951881</td>\n",
       "      <td>9</td>\n",
       "      <td>205\u00024945663\u00031.0\u0001301\u00029351665\u00031.0\u0001216\u00029172179\u00031....</td>\n",
       "    </tr>\n",
       "  </tbody>\n",
       "</table>\n",
       "</div>"
      ],
      "text/plain": [
       "   0  1  2                 3   4  \\\n",
       "0  1  0  0  bacff91692951881   9   \n",
       "1  2  0  0  bacff91692951881  10   \n",
       "2  3  1  0  bacff91692951881  20   \n",
       "3  4  0  0  bacff91692951881  13   \n",
       "4  5  0  0  bacff91692951881   9   \n",
       "\n",
       "                                                   5  \n",
       "0  210\u00029052218\u00031.0\u0001210\u00029064553\u00031.0\u0001210\u00029093445\u00031....  \n",
       "1  210\u00029109732\u00031.0\u0001210\u00029046284\u00031.0\u0001210\u00029099035\u00031....  \n",
       "2  210\u00029089731\u00031.0\u0001210\u00029047560\u00031.0\u0001509\u00029511769\u00032....  \n",
       "3  301\u00029351665\u00031.0\u0001210\u00029050364\u00031.0\u0001210\u00029083388\u00031....  \n",
       "4  205\u00024945663\u00031.0\u0001301\u00029351665\u00031.0\u0001216\u00029172179\u00031....  "
      ]
     },
     "execution_count": 3,
     "metadata": {},
     "output_type": "execute_result"
    }
   ],
   "source": [
    "# Create downsampled core training set \n",
    "df = pd.read_csv(FILEPATH_TRAIN_CORE_RAW,nrows=10000, index_col=False, header=None)\n",
    "df.to_csv(FILEPATH_TRAIN_CORE_DEVELOPMENT)\n",
    "df.head()"
   ]
  },
  {
   "cell_type": "code",
   "execution_count": 4,
   "metadata": {},
   "outputs": [
    {
     "data": {
      "text/html": [
       "<div>\n",
       "<style scoped>\n",
       "    .dataframe tbody tr th:only-of-type {\n",
       "        vertical-align: middle;\n",
       "    }\n",
       "\n",
       "    .dataframe tbody tr th {\n",
       "        vertical-align: top;\n",
       "    }\n",
       "\n",
       "    .dataframe thead th {\n",
       "        text-align: right;\n",
       "    }\n",
       "</style>\n",
       "<table border=\"1\" class=\"dataframe\">\n",
       "  <thead>\n",
       "    <tr style=\"text-align: right;\">\n",
       "      <th></th>\n",
       "      <th>0</th>\n",
       "      <th>1</th>\n",
       "      <th>2</th>\n",
       "    </tr>\n",
       "  </thead>\n",
       "  <tbody>\n",
       "    <tr>\n",
       "      <th>0</th>\n",
       "      <td>84dceed2e3a667f8</td>\n",
       "      <td>343</td>\n",
       "      <td>101\u000231319\u00031.0\u0001125\u00023438774\u00031.0\u0001126\u00023438779\u00031.0\u0001...</td>\n",
       "    </tr>\n",
       "    <tr>\n",
       "      <th>1</th>\n",
       "      <td>0000350f0c2121e7</td>\n",
       "      <td>811</td>\n",
       "      <td>127_14\u00023716224\u00031.94591\u0001127_14\u00023514627\u00030.69315\u0001...</td>\n",
       "    </tr>\n",
       "    <tr>\n",
       "      <th>2</th>\n",
       "      <td>000091a89d1867ab</td>\n",
       "      <td>7</td>\n",
       "      <td>125\u00023438773\u00031.0\u0001124\u00023438769\u00031.0\u0001122\u00023438761\u00031....</td>\n",
       "    </tr>\n",
       "    <tr>\n",
       "      <th>3</th>\n",
       "      <td>0001a4114b0ae8bf</td>\n",
       "      <td>231</td>\n",
       "      <td>150_14\u00023916684\u00032.3979\u0001150_14\u00023940798\u00031.07056\u00011...</td>\n",
       "    </tr>\n",
       "    <tr>\n",
       "      <th>4</th>\n",
       "      <td>0001def19d7cb335</td>\n",
       "      <td>964</td>\n",
       "      <td>150_14\u00023909150\u00030.84715\u0001150_14\u00023933013\u00034.44265\u0001...</td>\n",
       "    </tr>\n",
       "  </tbody>\n",
       "</table>\n",
       "</div>"
      ],
      "text/plain": [
       "                  0    1                                                  2\n",
       "0  84dceed2e3a667f8  343  101\u000231319\u00031.0\u0001125\u00023438774\u00031.0\u0001126\u00023438779\u00031.0\u0001...\n",
       "1  0000350f0c2121e7  811  127_14\u00023716224\u00031.94591\u0001127_14\u00023514627\u00030.69315\u0001...\n",
       "2  000091a89d1867ab    7  125\u00023438773\u00031.0\u0001124\u00023438769\u00031.0\u0001122\u00023438761\u00031....\n",
       "3  0001a4114b0ae8bf  231  150_14\u00023916684\u00032.3979\u0001150_14\u00023940798\u00031.07056\u00011...\n",
       "4  0001def19d7cb335  964  150_14\u00023909150\u00030.84715\u0001150_14\u00023933013\u00034.44265\u0001..."
      ]
     },
     "execution_count": 4,
     "metadata": {},
     "output_type": "execute_result"
    }
   ],
   "source": [
    "# Create downsampled common features training set \n",
    "df = pd.read_csv(FILEPATH_TRAIN_COMMON_FEATURES_RAW,nrows=10000, index_col=False, header=None)\n",
    "df.to_csv(FILEPATH_TRAIN_COMMON_FEATURES_DEVELOPMENT)\n",
    "df.head()"
   ]
  }
 ],
 "metadata": {
  "interpreter": {
   "hash": "b4c1728eb1d2e5aa0ad9cb608f2ae480dc35c5197350e729ffcd56015e38fc7c"
  },
  "kernelspec": {
   "display_name": "Python 3.8.12 ('deepcvr')",
   "language": "python",
   "name": "python3"
  },
  "language_info": {
   "codemirror_mode": {
    "name": "ipython",
    "version": 3
   },
   "file_extension": ".py",
   "mimetype": "text/x-python",
   "name": "python",
   "nbconvert_exporter": "python",
   "pygments_lexer": "ipython3",
   "version": "3.8.12"
  },
  "orig_nbformat": 4
 },
 "nbformat": 4,
 "nbformat_minor": 2
}
