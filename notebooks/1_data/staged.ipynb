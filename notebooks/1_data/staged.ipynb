{
 "cells": [
  {
   "cell_type": "markdown",
   "metadata": {},
   "source": [
    "# Staged"
   ]
  },
  {
   "cell_type": "code",
   "execution_count": 1,
   "metadata": {},
   "outputs": [],
   "source": [
    "from deepcvr.utils.io import load_csv"
   ]
  },
  {
   "cell_type": "code",
   "execution_count": 2,
   "metadata": {},
   "outputs": [],
   "source": [
    "TRAIN_CORE_FILEPATH = \"tests/data/development/staged/sample_skeleton_train.csv\"\n",
    "TRAIN_COMMON_FILEPATH = \"tests/data/development/staged/common_features_train.csv\"\n",
    "TEST_CORE_FILEPATH = \"tests/data/development/raw/sample_skeleton_test.csv\"\n",
    "TEST_COMMON_FILEPATH = \"tests/data/development/raw/common_features_test.csv\"\n"
   ]
  },
  {
   "cell_type": "markdown",
   "metadata": {},
   "source": [
    "## Train Core"
   ]
  },
  {
   "cell_type": "code",
   "execution_count": 3,
   "metadata": {},
   "outputs": [
    {
     "name": "stderr",
     "output_type": "stream",
     "text": [
      "Rows read: 100%|█████████▉| 42298/42299 [00:00<00:00, 213698.62it/s]\n"
     ]
    },
    {
     "data": {
      "text/html": [
       "<div>\n",
       "<style scoped>\n",
       "    .dataframe tbody tr th:only-of-type {\n",
       "        vertical-align: middle;\n",
       "    }\n",
       "\n",
       "    .dataframe tbody tr th {\n",
       "        vertical-align: top;\n",
       "    }\n",
       "\n",
       "    .dataframe thead th {\n",
       "        text-align: right;\n",
       "    }\n",
       "</style>\n",
       "<table border=\"1\" class=\"dataframe\">\n",
       "  <thead>\n",
       "    <tr style=\"text-align: right;\">\n",
       "      <th></th>\n",
       "      <th>sample_id</th>\n",
       "      <th>click_label</th>\n",
       "      <th>conversion_label</th>\n",
       "      <th>common_features_index</th>\n",
       "      <th>num_core_features</th>\n",
       "      <th>features_list</th>\n",
       "      <th>partition</th>\n",
       "    </tr>\n",
       "  </thead>\n",
       "  <tbody>\n",
       "    <tr>\n",
       "      <th>0</th>\n",
       "      <td>11515523</td>\n",
       "      <td>0</td>\n",
       "      <td>0</td>\n",
       "      <td>d5f794198192a713</td>\n",
       "      <td>8</td>\n",
       "      <td>207\u00028718436\u00031.0\u0001210\u00029112278\u00031.0\u0001210\u00029042899\u00031....</td>\n",
       "      <td>0</td>\n",
       "    </tr>\n",
       "    <tr>\n",
       "      <th>1</th>\n",
       "      <td>11060573</td>\n",
       "      <td>0</td>\n",
       "      <td>0</td>\n",
       "      <td>5ab1af84e729a269</td>\n",
       "      <td>13</td>\n",
       "      <td>210\u00029029962\u00031.0\u0001210\u00029090457\u00031.0\u0001216\u00029150651\u00031....</td>\n",
       "      <td>1</td>\n",
       "    </tr>\n",
       "    <tr>\n",
       "      <th>2</th>\n",
       "      <td>19579112</td>\n",
       "      <td>0</td>\n",
       "      <td>0</td>\n",
       "      <td>15100e25b3982cc3</td>\n",
       "      <td>17</td>\n",
       "      <td>301\u00029351666\u00031.0\u0001216\u00029253675\u00031.0\u0001210\u00029114481\u00031....</td>\n",
       "      <td>2</td>\n",
       "    </tr>\n",
       "    <tr>\n",
       "      <th>3</th>\n",
       "      <td>12131559</td>\n",
       "      <td>0</td>\n",
       "      <td>0</td>\n",
       "      <td>4e21ad4cf5b148d7</td>\n",
       "      <td>10</td>\n",
       "      <td>205\u00025565071\u00031.0\u0001210\u00029063351\u00031.0\u0001210\u00029074690\u00031....</td>\n",
       "      <td>3</td>\n",
       "    </tr>\n",
       "    <tr>\n",
       "      <th>4</th>\n",
       "      <td>34008079</td>\n",
       "      <td>0</td>\n",
       "      <td>0</td>\n",
       "      <td>654765381422bb63</td>\n",
       "      <td>17</td>\n",
       "      <td>210\u00029062351\u00031.0\u0001210\u00029076222\u00031.0\u0001508\u00029355077\u00030....</td>\n",
       "      <td>4</td>\n",
       "    </tr>\n",
       "  </tbody>\n",
       "</table>\n",
       "</div>"
      ],
      "text/plain": [
       "   sample_id  click_label  conversion_label common_features_index  \\\n",
       "0   11515523            0                 0      d5f794198192a713   \n",
       "1   11060573            0                 0      5ab1af84e729a269   \n",
       "2   19579112            0                 0      15100e25b3982cc3   \n",
       "3   12131559            0                 0      4e21ad4cf5b148d7   \n",
       "4   34008079            0                 0      654765381422bb63   \n",
       "\n",
       "   num_core_features                                      features_list  \\\n",
       "0                  8  207\u00028718436\u00031.0\u0001210\u00029112278\u00031.0\u0001210\u00029042899\u00031....   \n",
       "1                 13  210\u00029029962\u00031.0\u0001210\u00029090457\u00031.0\u0001216\u00029150651\u00031....   \n",
       "2                 17  301\u00029351666\u00031.0\u0001216\u00029253675\u00031.0\u0001210\u00029114481\u00031....   \n",
       "3                 10  205\u00025565071\u00031.0\u0001210\u00029063351\u00031.0\u0001210\u00029074690\u00031....   \n",
       "4                 17  210\u00029062351\u00031.0\u0001210\u00029076222\u00031.0\u0001508\u00029355077\u00030....   \n",
       "\n",
       "   partition  \n",
       "0          0  \n",
       "1          1  \n",
       "2          2  \n",
       "3          3  \n",
       "4          4  "
      ]
     },
     "execution_count": 3,
     "metadata": {},
     "output_type": "execute_result"
    }
   ],
   "source": [
    "df = load_csv(TRAIN_CORE_FILEPATH)\n",
    "df.head()"
   ]
  }
 ],
 "metadata": {
  "interpreter": {
   "hash": "b4c1728eb1d2e5aa0ad9cb608f2ae480dc35c5197350e729ffcd56015e38fc7c"
  },
  "kernelspec": {
   "display_name": "Python 3.8.12 ('deepcvr')",
   "language": "python",
   "name": "python3"
  },
  "language_info": {
   "codemirror_mode": {
    "name": "ipython",
    "version": 3
   },
   "file_extension": ".py",
   "mimetype": "text/x-python",
   "name": "python",
   "nbconvert_exporter": "python",
   "pygments_lexer": "ipython3",
   "version": "3.8.12"
  },
  "orig_nbformat": 4
 },
 "nbformat": 4,
 "nbformat_minor": 2
}
