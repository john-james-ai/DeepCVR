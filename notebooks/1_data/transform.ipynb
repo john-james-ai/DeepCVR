{
 "cells": [
  {
   "cell_type": "markdown",
   "metadata": {},
   "source": [
    "# Transform Stage\n",
    "Spark's Pandas UDF functionality will be used to distribute and execute the transform operation across multiple workers in parallel."
   ]
  },
  {
   "cell_type": "code",
   "execution_count": 1,
   "metadata": {},
   "outputs": [],
   "source": [
    "from pyspark.sql.functions import pandas_udf, PandasUDFType\n",
    "from pyspark.sql.types import *\n",
    "import pandas as pd"
   ]
  },
  {
   "cell_type": "code",
   "execution_count": null,
   "metadata": {},
   "outputs": [],
   "source": [
    "schema = StructType([StructField('sample_id',LongType(), False),\n",
    "                     StructField('feature_name',StringType(), False),\n",
    "                     StructField('feature_id',LongType(),False),\n",
    "                     StructField('feature_value', DoubleType(),False)])"
   ]
  },
  {
   "cell_type": "code",
   "execution_count": null,
   "metadata": {},
   "outputs": [],
   "source": [
    "@pandas_udf(schema, PandasUDFType.GROUPED_MAP)\n",
    "def transform_core_features(partition):\n",
    "    for _, row in partition.iterrows():\n",
    "        sample_id = int(row[0].values[0])\n",
    "        num_features = int(row[4].values[0])\n",
    "        feature_string = row[5].values[0]\n",
    "\n",
    "        df = parse_feature_string(\n",
    "                id_name=\"sample_id\",\n",
    "                id_value=sample_id,\n",
    "                num_features=num_features,\n",
    "                feature_string=feature_string,\n",
    "            )\n",
    "\n",
    "            self._output = pd.concat([self._output, df], axis=0)    \n"
   ]
  }
 ],
 "metadata": {
  "interpreter": {
   "hash": "b4c1728eb1d2e5aa0ad9cb608f2ae480dc35c5197350e729ffcd56015e38fc7c"
  },
  "kernelspec": {
   "display_name": "Python 3.8.12 ('deepcvr')",
   "language": "python",
   "name": "python3"
  },
  "language_info": {
   "codemirror_mode": {
    "name": "ipython",
    "version": 3
   },
   "file_extension": ".py",
   "mimetype": "text/x-python",
   "name": "python",
   "nbconvert_exporter": "python",
   "pygments_lexer": "ipython3",
   "version": "3.8.12"
  }
 },
 "nbformat": 4,
 "nbformat_minor": 2
}
