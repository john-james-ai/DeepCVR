{
 "cells": [
  {
   "cell_type": "markdown",
   "metadata": {},
   "source": [
    "# Create Development Datasets\n",
    "We have two datasets to sample: the core and commmon features datasets.\n",
    "\n",
    "- Core Dataset: The core dataset should be a stratified sample of the complete core dataset, reflecting the same frequency  distribution of clicks and conversions. The target sample size is a parameter set to 0.001 of the complete dataset.\n",
    "- Common Features Dataset: This a lookup dataset with a foreign key on the core dataset. We sample this with the contraing that every core feature set also exists in the core dataset sample. "
   ]
  },
  {
   "cell_type": "code",
   "execution_count": 1,
   "metadata": {},
   "outputs": [],
   "source": [
    "import pandas as pd\n",
    "from deepcvr.data.profile import CoreProfiler\n",
    "from deepcvr.data.sampling import TaobaoSampler\n",
    "from deepcvr.utils.io import load_csv\n",
    "pd.set_option('display.float_format', lambda x: '%.5f' % x)\n"
   ]
  },
  {
   "cell_type": "code",
   "execution_count": 2,
   "metadata": {},
   "outputs": [],
   "source": [
    "#Parameters\n",
    "FRAC_CORE = 0.001\n",
    "MAX_FRAC_COMMON_FEATURES = 0.01\n",
    "RANDOM_STATE = 602\n",
    "# Filepaths\n",
    "FILEPATHS = {}\n",
    "FILEPATHS['TRAIN_CORE'] = \"data/archive/raw/sample_skeleton_train.csv\"\n",
    "FILEPATHS['TRAIN_COMMON_FEATURES'] = \"data/archive/raw/common_features_train.csv\"\n",
    "FILEPATHS['TEST_CORE'] = \"data/archive/raw/sample_skeleton_test.csv\"\n",
    "FILEPATHS['TEST_COMMON_FEATURES'] = \"data/archive/raw/common_features_test.csv\"\n"
   ]
  },
  {
   "cell_type": "markdown",
   "metadata": {},
   "source": [
    "## Read Data"
   ]
  },
  {
   "cell_type": "code",
   "execution_count": 3,
   "metadata": {},
   "outputs": [
    {
     "name": "stderr",
     "output_type": "stream",
     "text": [
      "Rows read: 100%|██████████| 42300135/42300135 [02:42<00:00, 260356.82it/s]\n"
     ]
    }
   ],
   "source": [
    "core = load_csv(filepath=FILEPATHS['TRAIN_CORE'])"
   ]
  },
  {
   "cell_type": "code",
   "execution_count": 4,
   "metadata": {},
   "outputs": [
    {
     "name": "stderr",
     "output_type": "stream",
     "text": [
      "Rows read: 100%|██████████| 730600/730600 [01:46<00:00, 6866.71it/s]\n"
     ]
    }
   ],
   "source": [
    "common = load_csv(filepath=FILEPATHS['TRAIN_COMMON_FEATURES'])"
   ]
  },
  {
   "cell_type": "markdown",
   "metadata": {},
   "source": [
    "## Create Sample"
   ]
  },
  {
   "cell_type": "code",
   "execution_count": 5,
   "metadata": {},
   "outputs": [
    {
     "data": {
      "text/plain": [
       "memory                       16324884838.00000\n",
       "impressions                     42300135.00000\n",
       "no_action                       40655649.00000\n",
       "clicks                           1644256.00000\n",
       "conversions                         9032.00000\n",
       "click_through_rate                     3.88712\n",
       "conversion_rate                        0.02135\n",
       "unique_common_feature_sets        730600.00000\n",
       "min_features_per_sample                1.00000\n",
       "max_features_per_sample               59.00000\n",
       "num_na                                 0.00000\n",
       "dtype: float64"
      ]
     },
     "execution_count": 5,
     "metadata": {},
     "output_type": "execute_result"
    }
   ],
   "source": [
    "profiler = CoreProfiler(core)\n",
    "stats = profiler.execute()\n",
    "stats"
   ]
  },
  {
   "cell_type": "markdown",
   "metadata": {},
   "source": [
    "### Core Dataset Target Sample Statistics"
   ]
  },
  {
   "cell_type": "code",
   "execution_count": 6,
   "metadata": {},
   "outputs": [
    {
     "data": {
      "text/html": [
       "<div>\n",
       "<style scoped>\n",
       "    .dataframe tbody tr th:only-of-type {\n",
       "        vertical-align: middle;\n",
       "    }\n",
       "\n",
       "    .dataframe tbody tr th {\n",
       "        vertical-align: top;\n",
       "    }\n",
       "\n",
       "    .dataframe thead th {\n",
       "        text-align: right;\n",
       "    }\n",
       "</style>\n",
       "<table border=\"1\" class=\"dataframe\">\n",
       "  <thead>\n",
       "    <tr style=\"text-align: right;\">\n",
       "      <th></th>\n",
       "      <th>0</th>\n",
       "      <th>1</th>\n",
       "      <th>2</th>\n",
       "      <th>3</th>\n",
       "      <th>4</th>\n",
       "      <th>5</th>\n",
       "    </tr>\n",
       "  </thead>\n",
       "  <tbody>\n",
       "    <tr>\n",
       "      <th>0</th>\n",
       "      <td>1</td>\n",
       "      <td>0</td>\n",
       "      <td>0</td>\n",
       "      <td>bacff91692951881</td>\n",
       "      <td>9</td>\n",
       "      <td>210\u00029052218\u00031.0\u0001210\u00029064553\u00031.0\u0001210\u00029093445\u00031....</td>\n",
       "    </tr>\n",
       "    <tr>\n",
       "      <th>1</th>\n",
       "      <td>2</td>\n",
       "      <td>0</td>\n",
       "      <td>0</td>\n",
       "      <td>bacff91692951881</td>\n",
       "      <td>10</td>\n",
       "      <td>210\u00029109732\u00031.0\u0001210\u00029046284\u00031.0\u0001210\u00029099035\u00031....</td>\n",
       "    </tr>\n",
       "    <tr>\n",
       "      <th>2</th>\n",
       "      <td>3</td>\n",
       "      <td>1</td>\n",
       "      <td>0</td>\n",
       "      <td>bacff91692951881</td>\n",
       "      <td>20</td>\n",
       "      <td>210\u00029089731\u00031.0\u0001210\u00029047560\u00031.0\u0001509\u00029511769\u00032....</td>\n",
       "    </tr>\n",
       "    <tr>\n",
       "      <th>3</th>\n",
       "      <td>4</td>\n",
       "      <td>0</td>\n",
       "      <td>0</td>\n",
       "      <td>bacff91692951881</td>\n",
       "      <td>13</td>\n",
       "      <td>301\u00029351665\u00031.0\u0001210\u00029050364\u00031.0\u0001210\u00029083388\u00031....</td>\n",
       "    </tr>\n",
       "    <tr>\n",
       "      <th>4</th>\n",
       "      <td>5</td>\n",
       "      <td>0</td>\n",
       "      <td>0</td>\n",
       "      <td>bacff91692951881</td>\n",
       "      <td>9</td>\n",
       "      <td>205\u00024945663\u00031.0\u0001301\u00029351665\u00031.0\u0001216\u00029172179\u00031....</td>\n",
       "    </tr>\n",
       "  </tbody>\n",
       "</table>\n",
       "</div>"
      ],
      "text/plain": [
       "   0  1  2                 3   4  \\\n",
       "0  1  0  0  bacff91692951881   9   \n",
       "1  2  0  0  bacff91692951881  10   \n",
       "2  3  1  0  bacff91692951881  20   \n",
       "3  4  0  0  bacff91692951881  13   \n",
       "4  5  0  0  bacff91692951881   9   \n",
       "\n",
       "                                                   5  \n",
       "0  210\u00029052218\u00031.0\u0001210\u00029064553\u00031.0\u0001210\u00029093445\u00031....  \n",
       "1  210\u00029109732\u00031.0\u0001210\u00029046284\u00031.0\u0001210\u00029099035\u00031....  \n",
       "2  210\u00029089731\u00031.0\u0001210\u00029047560\u00031.0\u0001509\u00029511769\u00032....  \n",
       "3  301\u00029351665\u00031.0\u0001210\u00029050364\u00031.0\u0001210\u00029083388\u00031....  \n",
       "4  205\u00024945663\u00031.0\u0001301\u00029351665\u00031.0\u0001216\u00029172179\u00031....  "
      ]
     },
     "execution_count": 6,
     "metadata": {},
     "output_type": "execute_result"
    }
   ],
   "source": [
    "core.head()"
   ]
  },
  {
   "cell_type": "markdown",
   "metadata": {},
   "source": [
    "### Core Dataset Common Features Frequency Distribution\n"
   ]
  },
  {
   "cell_type": "code",
   "execution_count": 7,
   "metadata": {},
   "outputs": [
    {
     "data": {
      "text/html": [
       "<div>\n",
       "<style scoped>\n",
       "    .dataframe tbody tr th:only-of-type {\n",
       "        vertical-align: middle;\n",
       "    }\n",
       "\n",
       "    .dataframe tbody tr th {\n",
       "        vertical-align: top;\n",
       "    }\n",
       "\n",
       "    .dataframe thead th {\n",
       "        text-align: right;\n",
       "    }\n",
       "</style>\n",
       "<table border=\"1\" class=\"dataframe\">\n",
       "  <thead>\n",
       "    <tr style=\"text-align: right;\">\n",
       "      <th></th>\n",
       "      <th>common_feature_index</th>\n",
       "      <th>count</th>\n",
       "    </tr>\n",
       "  </thead>\n",
       "  <tbody>\n",
       "    <tr>\n",
       "      <th>0</th>\n",
       "      <td>d38b408b739306ae</td>\n",
       "      <td>1229</td>\n",
       "    </tr>\n",
       "    <tr>\n",
       "      <th>1</th>\n",
       "      <td>974869115883abef</td>\n",
       "      <td>1210</td>\n",
       "    </tr>\n",
       "    <tr>\n",
       "      <th>2</th>\n",
       "      <td>9a625acb23321d58</td>\n",
       "      <td>933</td>\n",
       "    </tr>\n",
       "    <tr>\n",
       "      <th>3</th>\n",
       "      <td>106b9ac1a4714d88</td>\n",
       "      <td>919</td>\n",
       "    </tr>\n",
       "    <tr>\n",
       "      <th>4</th>\n",
       "      <td>a9df094140bfa51f</td>\n",
       "      <td>914</td>\n",
       "    </tr>\n",
       "  </tbody>\n",
       "</table>\n",
       "</div>"
      ],
      "text/plain": [
       "  common_feature_index  count\n",
       "0     d38b408b739306ae   1229\n",
       "1     974869115883abef   1210\n",
       "2     9a625acb23321d58    933\n",
       "3     106b9ac1a4714d88    919\n",
       "4     a9df094140bfa51f    914"
      ]
     },
     "execution_count": 7,
     "metadata": {},
     "output_type": "execute_result"
    }
   ],
   "source": [
    "common_features_value_counts = core[3].value_counts(normalize=False)\n",
    "common_features_value_counts = common_features_value_counts.to_frame()\n",
    "common_features_value_counts.reset_index(inplace=True)\n",
    "common_features_value_counts.columns = ['common_feature_index','count']\n",
    "common_features_value_counts.head()"
   ]
  },
  {
   "cell_type": "markdown",
   "metadata": {},
   "source": [
    "## Common Features Selection\n",
    "Sort common features dataset by size of the feature list and merge it with the counts."
   ]
  },
  {
   "cell_type": "code",
   "execution_count": 8,
   "metadata": {},
   "outputs": [
    {
     "data": {
      "text/html": [
       "<div>\n",
       "<style scoped>\n",
       "    .dataframe tbody tr th:only-of-type {\n",
       "        vertical-align: middle;\n",
       "    }\n",
       "\n",
       "    .dataframe tbody tr th {\n",
       "        vertical-align: top;\n",
       "    }\n",
       "\n",
       "    .dataframe thead th {\n",
       "        text-align: right;\n",
       "    }\n",
       "</style>\n",
       "<table border=\"1\" class=\"dataframe\">\n",
       "  <thead>\n",
       "    <tr style=\"text-align: right;\">\n",
       "      <th></th>\n",
       "      <th>0</th>\n",
       "      <th>1</th>\n",
       "      <th>2</th>\n",
       "      <th>common_feature_index</th>\n",
       "      <th>count</th>\n",
       "      <th>cum</th>\n",
       "    </tr>\n",
       "  </thead>\n",
       "  <tbody>\n",
       "    <tr>\n",
       "      <th>428460</th>\n",
       "      <td>d38b408b739306ae</td>\n",
       "      <td>1592</td>\n",
       "      <td>110_14\u00021082642\u00030.69315\u0001121\u00023438749\u00031.0\u0001122\u0002343...</td>\n",
       "      <td>d38b408b739306ae</td>\n",
       "      <td>1229</td>\n",
       "      <td>1229</td>\n",
       "    </tr>\n",
       "    <tr>\n",
       "      <th>274490</th>\n",
       "      <td>974869115883abef</td>\n",
       "      <td>827</td>\n",
       "      <td>110_14\u00022508561\u00031.09861\u0001101\u0002169003\u00031.0\u0001124\u00023438...</td>\n",
       "      <td>974869115883abef</td>\n",
       "      <td>1210</td>\n",
       "      <td>2439</td>\n",
       "    </tr>\n",
       "    <tr>\n",
       "      <th>337614</th>\n",
       "      <td>9a625acb23321d58</td>\n",
       "      <td>2030</td>\n",
       "      <td>109_14\u0002455916\u00031.09861\u0001101\u000224011\u00031.0\u0001124\u0002343876...</td>\n",
       "      <td>9a625acb23321d58</td>\n",
       "      <td>933</td>\n",
       "      <td>3372</td>\n",
       "    </tr>\n",
       "    <tr>\n",
       "      <th>571873</th>\n",
       "      <td>106b9ac1a4714d88</td>\n",
       "      <td>1592</td>\n",
       "      <td>110_14\u00022051239\u00030.69315\u0001121\u00023438749\u00031.0\u0001122\u0002343...</td>\n",
       "      <td>106b9ac1a4714d88</td>\n",
       "      <td>919</td>\n",
       "      <td>4291</td>\n",
       "    </tr>\n",
       "    <tr>\n",
       "      <th>283804</th>\n",
       "      <td>a9df094140bfa51f</td>\n",
       "      <td>1883</td>\n",
       "      <td>110_14\u00023296899\u00031.60944\u0001121\u00023438658\u00031.0\u0001122\u0002343...</td>\n",
       "      <td>a9df094140bfa51f</td>\n",
       "      <td>914</td>\n",
       "      <td>5205</td>\n",
       "    </tr>\n",
       "  </tbody>\n",
       "</table>\n",
       "</div>"
      ],
      "text/plain": [
       "                       0     1  \\\n",
       "428460  d38b408b739306ae  1592   \n",
       "274490  974869115883abef   827   \n",
       "337614  9a625acb23321d58  2030   \n",
       "571873  106b9ac1a4714d88  1592   \n",
       "283804  a9df094140bfa51f  1883   \n",
       "\n",
       "                                                        2  \\\n",
       "428460  110_14\u00021082642\u00030.69315\u0001121\u00023438749\u00031.0\u0001122\u0002343...   \n",
       "274490  110_14\u00022508561\u00031.09861\u0001101\u0002169003\u00031.0\u0001124\u00023438...   \n",
       "337614  109_14\u0002455916\u00031.09861\u0001101\u000224011\u00031.0\u0001124\u0002343876...   \n",
       "571873  110_14\u00022051239\u00030.69315\u0001121\u00023438749\u00031.0\u0001122\u0002343...   \n",
       "283804  110_14\u00023296899\u00031.60944\u0001121\u00023438658\u00031.0\u0001122\u0002343...   \n",
       "\n",
       "       common_feature_index  count   cum  \n",
       "428460     d38b408b739306ae   1229  1229  \n",
       "274490     974869115883abef   1210  2439  \n",
       "337614     9a625acb23321d58    933  3372  \n",
       "571873     106b9ac1a4714d88    919  4291  \n",
       "283804     a9df094140bfa51f    914  5205  "
      ]
     },
     "execution_count": 8,
     "metadata": {},
     "output_type": "execute_result"
    }
   ],
   "source": [
    "common_with_counts = pd.merge(left=common, right=common_features_value_counts, left_on=0, right_on='common_feature_index')\n",
    "common_with_counts.sort_values(by='count', ascending=False,inplace=True)\n",
    "common_with_counts['cum'] = common_with_counts['count'].cumsum()\n",
    "common_with_counts.head()"
   ]
  },
  {
   "cell_type": "markdown",
   "metadata": {},
   "source": [
    "Obtain FRAC_CORE observations from thee common dataset, and sum the count to get the number of core observations from which to sample."
   ]
  },
  {
   "cell_type": "markdown",
   "metadata": {},
   "source": [
    "### Select by Size of Feature List"
   ]
  },
  {
   "cell_type": "code",
   "execution_count": 9,
   "metadata": {},
   "outputs": [
    {
     "data": {
      "text/html": [
       "<div>\n",
       "<style scoped>\n",
       "    .dataframe tbody tr th:only-of-type {\n",
       "        vertical-align: middle;\n",
       "    }\n",
       "\n",
       "    .dataframe tbody tr th {\n",
       "        vertical-align: top;\n",
       "    }\n",
       "\n",
       "    .dataframe thead th {\n",
       "        text-align: right;\n",
       "    }\n",
       "</style>\n",
       "<table border=\"1\" class=\"dataframe\">\n",
       "  <thead>\n",
       "    <tr style=\"text-align: right;\">\n",
       "      <th></th>\n",
       "      <th>0</th>\n",
       "      <th>1</th>\n",
       "      <th>2</th>\n",
       "      <th>common_feature_index</th>\n",
       "      <th>count</th>\n",
       "      <th>cum</th>\n",
       "    </tr>\n",
       "  </thead>\n",
       "  <tbody>\n",
       "    <tr>\n",
       "      <th>425110</th>\n",
       "      <td>ccdd5f84bcb52a0a</td>\n",
       "      <td>1</td>\n",
       "      <td>101\u0002148185\u00031.0</td>\n",
       "      <td>ccdd5f84bcb52a0a</td>\n",
       "      <td>27</td>\n",
       "      <td>40453652</td>\n",
       "    </tr>\n",
       "    <tr>\n",
       "      <th>62317</th>\n",
       "      <td>7d051c0cc01b70a6</td>\n",
       "      <td>1</td>\n",
       "      <td>101\u0002344818\u00031.0</td>\n",
       "      <td>7d051c0cc01b70a6</td>\n",
       "      <td>41</td>\n",
       "      <td>34825499</td>\n",
       "    </tr>\n",
       "    <tr>\n",
       "      <th>248596</th>\n",
       "      <td>63d664c8169c2362</td>\n",
       "      <td>1</td>\n",
       "      <td>101\u0002345088\u00031.0</td>\n",
       "      <td>63d664c8169c2362</td>\n",
       "      <td>32</td>\n",
       "      <td>39339705</td>\n",
       "    </tr>\n",
       "    <tr>\n",
       "      <th>252076</th>\n",
       "      <td>6a9d35b8700db8e5</td>\n",
       "      <td>1</td>\n",
       "      <td>101\u0002346028\u00031.0</td>\n",
       "      <td>6a9d35b8700db8e5</td>\n",
       "      <td>48</td>\n",
       "      <td>28709734</td>\n",
       "    </tr>\n",
       "    <tr>\n",
       "      <th>676718</th>\n",
       "      <td>fa674f78249df72f</td>\n",
       "      <td>1</td>\n",
       "      <td>101\u000294269\u00031.0</td>\n",
       "      <td>fa674f78249df72f</td>\n",
       "      <td>50</td>\n",
       "      <td>26748547</td>\n",
       "    </tr>\n",
       "  </tbody>\n",
       "</table>\n",
       "</div>"
      ],
      "text/plain": [
       "                       0  1               2 common_feature_index  count  \\\n",
       "425110  ccdd5f84bcb52a0a  1  101\u0002148185\u00031.0     ccdd5f84bcb52a0a     27   \n",
       "62317   7d051c0cc01b70a6  1  101\u0002344818\u00031.0     7d051c0cc01b70a6     41   \n",
       "248596  63d664c8169c2362  1  101\u0002345088\u00031.0     63d664c8169c2362     32   \n",
       "252076  6a9d35b8700db8e5  1  101\u0002346028\u00031.0     6a9d35b8700db8e5     48   \n",
       "676718  fa674f78249df72f  1   101\u000294269\u00031.0     fa674f78249df72f     50   \n",
       "\n",
       "             cum  \n",
       "425110  40453652  \n",
       "62317   34825499  \n",
       "248596  39339705  \n",
       "252076  28709734  \n",
       "676718  26748547  "
      ]
     },
     "execution_count": 9,
     "metadata": {},
     "output_type": "execute_result"
    }
   ],
   "source": [
    "select_by_size = common_with_counts.sort_values(by=1, axis=0)\n",
    "select_by_size = select_by_size[0:int(select_by_size.shape[0]*FRAC_CORE)]\n",
    "select_by_size.head()"
   ]
  },
  {
   "cell_type": "code",
   "execution_count": 10,
   "metadata": {},
   "outputs": [
    {
     "data": {
      "text/plain": [
       "total_common_features      730600\n",
       "sample_common_features        730\n",
       "total_core_observations     28678\n",
       "size                       169735\n",
       "dtype: int64"
      ]
     },
     "execution_count": 10,
     "metadata": {},
     "output_type": "execute_result"
    }
   ],
   "source": [
    "stats = {}\n",
    "stats['total_common_features'] = common.shape[0]\n",
    "stats['sample_common_features'] = select_by_size.shape[0]\n",
    "stats['total_core_observations'] = select_by_size['count'].sum() \n",
    "stats['size'] = select_by_size[[0,1,2]].memory_usage(deep=True).sum()\n",
    "stats = pd.Series(stats)\n",
    "stats"
   ]
  },
  {
   "cell_type": "markdown",
   "metadata": {},
   "source": [
    "## Select by Count"
   ]
  },
  {
   "cell_type": "code",
   "execution_count": 11,
   "metadata": {},
   "outputs": [
    {
     "data": {
      "text/html": [
       "<div>\n",
       "<style scoped>\n",
       "    .dataframe tbody tr th:only-of-type {\n",
       "        vertical-align: middle;\n",
       "    }\n",
       "\n",
       "    .dataframe tbody tr th {\n",
       "        vertical-align: top;\n",
       "    }\n",
       "\n",
       "    .dataframe thead th {\n",
       "        text-align: right;\n",
       "    }\n",
       "</style>\n",
       "<table border=\"1\" class=\"dataframe\">\n",
       "  <thead>\n",
       "    <tr style=\"text-align: right;\">\n",
       "      <th></th>\n",
       "      <th>0</th>\n",
       "      <th>1</th>\n",
       "      <th>2</th>\n",
       "      <th>common_feature_index</th>\n",
       "      <th>count</th>\n",
       "      <th>cum</th>\n",
       "    </tr>\n",
       "  </thead>\n",
       "  <tbody>\n",
       "    <tr>\n",
       "      <th>428460</th>\n",
       "      <td>d38b408b739306ae</td>\n",
       "      <td>1592</td>\n",
       "      <td>110_14\u00021082642\u00030.69315\u0001121\u00023438749\u00031.0\u0001122\u0002343...</td>\n",
       "      <td>d38b408b739306ae</td>\n",
       "      <td>1229</td>\n",
       "      <td>1229</td>\n",
       "    </tr>\n",
       "    <tr>\n",
       "      <th>274490</th>\n",
       "      <td>974869115883abef</td>\n",
       "      <td>827</td>\n",
       "      <td>110_14\u00022508561\u00031.09861\u0001101\u0002169003\u00031.0\u0001124\u00023438...</td>\n",
       "      <td>974869115883abef</td>\n",
       "      <td>1210</td>\n",
       "      <td>2439</td>\n",
       "    </tr>\n",
       "    <tr>\n",
       "      <th>337614</th>\n",
       "      <td>9a625acb23321d58</td>\n",
       "      <td>2030</td>\n",
       "      <td>109_14\u0002455916\u00031.09861\u0001101\u000224011\u00031.0\u0001124\u0002343876...</td>\n",
       "      <td>9a625acb23321d58</td>\n",
       "      <td>933</td>\n",
       "      <td>3372</td>\n",
       "    </tr>\n",
       "    <tr>\n",
       "      <th>571873</th>\n",
       "      <td>106b9ac1a4714d88</td>\n",
       "      <td>1592</td>\n",
       "      <td>110_14\u00022051239\u00030.69315\u0001121\u00023438749\u00031.0\u0001122\u0002343...</td>\n",
       "      <td>106b9ac1a4714d88</td>\n",
       "      <td>919</td>\n",
       "      <td>4291</td>\n",
       "    </tr>\n",
       "    <tr>\n",
       "      <th>283804</th>\n",
       "      <td>a9df094140bfa51f</td>\n",
       "      <td>1883</td>\n",
       "      <td>110_14\u00023296899\u00031.60944\u0001121\u00023438658\u00031.0\u0001122\u0002343...</td>\n",
       "      <td>a9df094140bfa51f</td>\n",
       "      <td>914</td>\n",
       "      <td>5205</td>\n",
       "    </tr>\n",
       "  </tbody>\n",
       "</table>\n",
       "</div>"
      ],
      "text/plain": [
       "                       0     1  \\\n",
       "428460  d38b408b739306ae  1592   \n",
       "274490  974869115883abef   827   \n",
       "337614  9a625acb23321d58  2030   \n",
       "571873  106b9ac1a4714d88  1592   \n",
       "283804  a9df094140bfa51f  1883   \n",
       "\n",
       "                                                        2  \\\n",
       "428460  110_14\u00021082642\u00030.69315\u0001121\u00023438749\u00031.0\u0001122\u0002343...   \n",
       "274490  110_14\u00022508561\u00031.09861\u0001101\u0002169003\u00031.0\u0001124\u00023438...   \n",
       "337614  109_14\u0002455916\u00031.09861\u0001101\u000224011\u00031.0\u0001124\u0002343876...   \n",
       "571873  110_14\u00022051239\u00030.69315\u0001121\u00023438749\u00031.0\u0001122\u0002343...   \n",
       "283804  110_14\u00023296899\u00031.60944\u0001121\u00023438658\u00031.0\u0001122\u0002343...   \n",
       "\n",
       "       common_feature_index  count   cum  \n",
       "428460     d38b408b739306ae   1229  1229  \n",
       "274490     974869115883abef   1210  2439  \n",
       "337614     9a625acb23321d58    933  3372  \n",
       "571873     106b9ac1a4714d88    919  4291  \n",
       "283804     a9df094140bfa51f    914  5205  "
      ]
     },
     "execution_count": 11,
     "metadata": {},
     "output_type": "execute_result"
    }
   ],
   "source": [
    "select_by_count = common_with_counts.sort_values(by='count', ascending=False, axis=0)\n",
    "select_by_count = select_by_count[0:int(select_by_count.shape[0]*FRAC_CORE)]\n",
    "select_by_count.head()"
   ]
  },
  {
   "cell_type": "code",
   "execution_count": 12,
   "metadata": {},
   "outputs": [
    {
     "data": {
      "text/plain": [
       "total_common_features        730600\n",
       "sample_common_features          730\n",
       "total_core_observations      396235\n",
       "size                       17310479\n",
       "dtype: int64"
      ]
     },
     "execution_count": 12,
     "metadata": {},
     "output_type": "execute_result"
    }
   ],
   "source": [
    "stats = {}\n",
    "stats['total_common_features'] = common.shape[0]\n",
    "stats['sample_common_features'] = select_by_count.shape[0]\n",
    "stats['total_core_observations'] = select_by_count['count'].sum() \n",
    "stats['size'] = select_by_count[[0,1,2]].memory_usage(deep=True).sum()\n",
    "stats = pd.Series(stats)\n",
    "stats"
   ]
  },
  {
   "cell_type": "markdown",
   "metadata": {},
   "source": [
    "## Filter Core Sample by Selected Common Features"
   ]
  },
  {
   "cell_type": "code",
   "execution_count": 13,
   "metadata": {},
   "outputs": [
    {
     "data": {
      "text/html": [
       "<div>\n",
       "<style scoped>\n",
       "    .dataframe tbody tr th:only-of-type {\n",
       "        vertical-align: middle;\n",
       "    }\n",
       "\n",
       "    .dataframe tbody tr th {\n",
       "        vertical-align: top;\n",
       "    }\n",
       "\n",
       "    .dataframe thead th {\n",
       "        text-align: right;\n",
       "    }\n",
       "</style>\n",
       "<table border=\"1\" class=\"dataframe\">\n",
       "  <thead>\n",
       "    <tr style=\"text-align: right;\">\n",
       "      <th></th>\n",
       "      <th>0</th>\n",
       "      <th>1</th>\n",
       "      <th>2</th>\n",
       "      <th>3</th>\n",
       "      <th>4</th>\n",
       "      <th>5</th>\n",
       "    </tr>\n",
       "  </thead>\n",
       "  <tbody>\n",
       "    <tr>\n",
       "      <th>0</th>\n",
       "      <td>13678876</td>\n",
       "      <td>0</td>\n",
       "      <td>0</td>\n",
       "      <td>d38b408b739306ae</td>\n",
       "      <td>18</td>\n",
       "      <td>210\u00029020288\u00031.0\u0001210\u00029083258\u00031.0\u0001210\u00029051569\u00031....</td>\n",
       "    </tr>\n",
       "    <tr>\n",
       "      <th>1</th>\n",
       "      <td>13678877</td>\n",
       "      <td>0</td>\n",
       "      <td>0</td>\n",
       "      <td>d38b408b739306ae</td>\n",
       "      <td>12</td>\n",
       "      <td>207\u00028979085\u00031.0\u0001210\u00029071348\u00031.0\u0001210\u00029089519\u00031....</td>\n",
       "    </tr>\n",
       "    <tr>\n",
       "      <th>2</th>\n",
       "      <td>13678878</td>\n",
       "      <td>0</td>\n",
       "      <td>0</td>\n",
       "      <td>d38b408b739306ae</td>\n",
       "      <td>11</td>\n",
       "      <td>210\u00029060342\u00031.0\u0001216\u00029298374\u00031.0\u0001210\u00029030970\u00031....</td>\n",
       "    </tr>\n",
       "    <tr>\n",
       "      <th>3</th>\n",
       "      <td>13678879</td>\n",
       "      <td>0</td>\n",
       "      <td>0</td>\n",
       "      <td>d38b408b739306ae</td>\n",
       "      <td>14</td>\n",
       "      <td>853\u000210022311\u00032.74084\u0001853\u000210058068\u00033.58815\u0001210\u0002...</td>\n",
       "    </tr>\n",
       "    <tr>\n",
       "      <th>4</th>\n",
       "      <td>13678880</td>\n",
       "      <td>0</td>\n",
       "      <td>0</td>\n",
       "      <td>d38b408b739306ae</td>\n",
       "      <td>18</td>\n",
       "      <td>508\u00029356309\u00035.14749\u0001853\u000210024786\u00035.51006\u0001853\u00021...</td>\n",
       "    </tr>\n",
       "  </tbody>\n",
       "</table>\n",
       "</div>"
      ],
      "text/plain": [
       "          0  1  2                 3   4  \\\n",
       "0  13678876  0  0  d38b408b739306ae  18   \n",
       "1  13678877  0  0  d38b408b739306ae  12   \n",
       "2  13678878  0  0  d38b408b739306ae  11   \n",
       "3  13678879  0  0  d38b408b739306ae  14   \n",
       "4  13678880  0  0  d38b408b739306ae  18   \n",
       "\n",
       "                                                   5  \n",
       "0  210\u00029020288\u00031.0\u0001210\u00029083258\u00031.0\u0001210\u00029051569\u00031....  \n",
       "1  207\u00028979085\u00031.0\u0001210\u00029071348\u00031.0\u0001210\u00029089519\u00031....  \n",
       "2  210\u00029060342\u00031.0\u0001216\u00029298374\u00031.0\u0001210\u00029030970\u00031....  \n",
       "3  853\u000210022311\u00032.74084\u0001853\u000210058068\u00033.58815\u0001210\u0002...  \n",
       "4  508\u00029356309\u00035.14749\u0001853\u000210024786\u00035.51006\u0001853\u00021...  "
      ]
     },
     "execution_count": 13,
     "metadata": {},
     "output_type": "execute_result"
    }
   ],
   "source": [
    "core_filtered = pd.merge(left=select_by_count[0], left_on=0, right=core, right_on=3)\n",
    "core_filtered = core_filtered[['0_y',1,2,3,4,5]]\n",
    "core_filtered.columns = [0,1,2,3,4,5]\n",
    "core_filtered.head()"
   ]
  },
  {
   "cell_type": "markdown",
   "metadata": {},
   "source": [
    "## Create Stratified Sample"
   ]
  },
  {
   "cell_type": "code",
   "execution_count": 14,
   "metadata": {},
   "outputs": [
    {
     "ename": "NameError",
     "evalue": "name 'sample' is not defined",
     "output_type": "error",
     "traceback": [
      "\u001b[0;31m---------------------------------------------------------------------------\u001b[0m",
      "\u001b[0;31mNameError\u001b[0m                                 Traceback (most recent call last)",
      "\u001b[1;32m/home/john/projects/DeepCVR/notebooks/1_data/create_development_datasets.ipynb Cell 25'\u001b[0m in \u001b[0;36m<module>\u001b[0;34m\u001b[0m\n\u001b[1;32m      <a href='vscode-notebook-cell://wsl%2Bubuntu-20.04/home/john/projects/DeepCVR/notebooks/1_data/create_development_datasets.ipynb#ch0000042vscode-remote?line=0'>1</a>\u001b[0m sampler \u001b[39m=\u001b[39m TaobaoSampler(core_data\u001b[39m=\u001b[39mcore, common_features_data\u001b[39m=\u001b[39mcommon, frac\u001b[39m=\u001b[39m\u001b[39m0.001\u001b[39m, random_state\u001b[39m=\u001b[39m\u001b[39m602\u001b[39m)\n\u001b[1;32m      <a href='vscode-notebook-cell://wsl%2Bubuntu-20.04/home/john/projects/DeepCVR/notebooks/1_data/create_development_datasets.ipynb#ch0000042vscode-remote?line=1'>2</a>\u001b[0m core_sample, common_features_sample \u001b[39m=\u001b[39m sampler\u001b[39m.\u001b[39mexecute()\n\u001b[0;32m----> <a href='vscode-notebook-cell://wsl%2Bubuntu-20.04/home/john/projects/DeepCVR/notebooks/1_data/create_development_datasets.ipynb#ch0000042vscode-remote?line=3'>4</a>\u001b[0m profiler \u001b[39m=\u001b[39m CoreProfiler(sample)\n\u001b[1;32m      <a href='vscode-notebook-cell://wsl%2Bubuntu-20.04/home/john/projects/DeepCVR/notebooks/1_data/create_development_datasets.ipynb#ch0000042vscode-remote?line=4'>5</a>\u001b[0m sample_stats \u001b[39m=\u001b[39m profiler\u001b[39m.\u001b[39mexecute()\n\u001b[1;32m      <a href='vscode-notebook-cell://wsl%2Bubuntu-20.04/home/john/projects/DeepCVR/notebooks/1_data/create_development_datasets.ipynb#ch0000042vscode-remote?line=5'>6</a>\u001b[0m sample_stats\n",
      "\u001b[0;31mNameError\u001b[0m: name 'sample' is not defined"
     ]
    }
   ],
   "source": [
    "sampler = TaobaoSampler(core_data=core, common_features_data=common, frac=0.001, random_state=602)\n",
    "core_sample, common_features_sample = sampler.execute()"
   ]
  },
  {
   "cell_type": "code",
   "execution_count": 15,
   "metadata": {},
   "outputs": [
    {
     "data": {
      "text/plain": [
       "memory                       16720886.00000\n",
       "impressions                     42298.00000\n",
       "no_action                       40655.00000\n",
       "clicks                           1643.00000\n",
       "conversions                         8.00000\n",
       "click_through_rate                  3.88434\n",
       "conversion_rate                     0.01891\n",
       "unique_common_feature_sets        730.00000\n",
       "min_features_per_sample             4.00000\n",
       "max_features_per_sample            42.00000\n",
       "num_na                              0.00000\n",
       "dtype: float64"
      ]
     },
     "execution_count": 15,
     "metadata": {},
     "output_type": "execute_result"
    }
   ],
   "source": [
    "profiler = CoreProfiler(core_sample)\n",
    "sample_stats = profiler.execute()\n",
    "sample_stats"
   ]
  },
  {
   "cell_type": "code",
   "execution_count": 16,
   "metadata": {},
   "outputs": [
    {
     "name": "stdout",
     "output_type": "stream",
     "text": [
      "<class 'pandas.core.frame.DataFrame'>\n",
      "Int64Index: 42298 entries, 0 to 42297\n",
      "Data columns (total 6 columns):\n",
      " #   Column  Non-Null Count  Dtype \n",
      "---  ------  --------------  ----- \n",
      " 0   0       42298 non-null  int64 \n",
      " 1   1       42298 non-null  int64 \n",
      " 2   2       42298 non-null  int64 \n",
      " 3   3       42298 non-null  object\n",
      " 4   4       42298 non-null  int64 \n",
      " 5   5       42298 non-null  object\n",
      "dtypes: int64(4), object(2)\n",
      "memory usage: 2.3+ MB\n"
     ]
    }
   ],
   "source": [
    "common_features_sample.info()"
   ]
  },
  {
   "cell_type": "code",
   "execution_count": null,
   "metadata": {},
   "outputs": [],
   "source": []
  }
 ],
 "metadata": {
  "interpreter": {
   "hash": "b4c1728eb1d2e5aa0ad9cb608f2ae480dc35c5197350e729ffcd56015e38fc7c"
  },
  "kernelspec": {
   "display_name": "Python 3.8.12 ('deepcvr')",
   "language": "python",
   "name": "python3"
  },
  "language_info": {
   "codemirror_mode": {
    "name": "ipython",
    "version": 3
   },
   "file_extension": ".py",
   "mimetype": "text/x-python",
   "name": "python",
   "nbconvert_exporter": "python",
   "pygments_lexer": "ipython3",
   "version": "3.8.12"
  },
  "orig_nbformat": 4
 },
 "nbformat": 4,
 "nbformat_minor": 2
}
