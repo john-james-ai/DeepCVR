{
 "cells": [
  {
   "cell_type": "markdown",
   "metadata": {},
   "source": [
    "# Exploratory Data Analysis\n",
    "## Univariate Data Analysis"
   ]
  },
  {
   "cell_type": "code",
   "execution_count": 1,
   "metadata": {},
   "outputs": [],
   "source": [
    "import matplotlib.pyplot as plt\n",
    "from deepcvr.data.analyst import CategoricalFeatureAnalyst, NumericFeatureAnalyst\n",
    "from deepcvr.utils.config import config_dag"
   ]
  },
  {
   "cell_type": "code",
   "execution_count": 2,
   "metadata": {},
   "outputs": [],
   "source": [
    "filepath = \"tests/test_config/credentials.yaml\"\n",
    "connection_string = config_dag(filepath)['database_uri']['train']"
   ]
  },
  {
   "cell_type": "code",
   "execution_count": 3,
   "metadata": {},
   "outputs": [
    {
     "ename": "TypeError",
     "evalue": "__init__() missing 1 required positional argument: 'tablename'",
     "output_type": "error",
     "traceback": [
      "\u001b[0;31m---------------------------------------------------------------------------\u001b[0m",
      "\u001b[0;31mTypeError\u001b[0m                                 Traceback (most recent call last)",
      "\u001b[1;32m/home/john/projects/DeepCVR/notebooks/1_data/eda.ipynb Cell 4'\u001b[0m in \u001b[0;36m<cell line: 2>\u001b[0;34m()\u001b[0m\n\u001b[1;32m      <a href='vscode-notebook-cell://wsl%2Bubuntu-20.04/home/john/projects/DeepCVR/notebooks/1_data/eda.ipynb#ch0000004vscode-remote?line=0'>1</a>\u001b[0m fig, ax \u001b[39m=\u001b[39m plt\u001b[39m.\u001b[39msubplots()\n\u001b[0;32m----> <a href='vscode-notebook-cell://wsl%2Bubuntu-20.04/home/john/projects/DeepCVR/notebooks/1_data/eda.ipynb#ch0000004vscode-remote?line=1'>2</a>\u001b[0m analyst \u001b[39m=\u001b[39m CategoricalFeatureAnalyst(feature_name\u001b[39m=\u001b[39;49m\u001b[39m'\u001b[39;49m\u001b[39m124\u001b[39;49m\u001b[39m'\u001b[39;49m,connection_string\u001b[39m=\u001b[39;49mconnection_string,fig\u001b[39m=\u001b[39;49mfig, ax\u001b[39m=\u001b[39;49max)\n",
      "File \u001b[0;32m~/projects/DeepCVR/deepcvr/data/analyst.py:271\u001b[0m, in \u001b[0;36mCategoricalFeatureAnalyst.__init__\u001b[0;34m(self, feature_name, connection_string, fig, ax, **kwargs)\u001b[0m\n\u001b[1;32m    <a href='file:///home/john/projects/DeepCVR/deepcvr/data/analyst.py?line=261'>262</a>\u001b[0m \u001b[39mdef\u001b[39;00m \u001b[39m__init__\u001b[39m(\n\u001b[1;32m    <a href='file:///home/john/projects/DeepCVR/deepcvr/data/analyst.py?line=262'>263</a>\u001b[0m     \u001b[39mself\u001b[39m,\n\u001b[1;32m    <a href='file:///home/john/projects/DeepCVR/deepcvr/data/analyst.py?line=263'>264</a>\u001b[0m     feature_name: \u001b[39mstr\u001b[39m,\n\u001b[0;32m   (...)\u001b[0m\n\u001b[1;32m    <a href='file:///home/john/projects/DeepCVR/deepcvr/data/analyst.py?line=267'>268</a>\u001b[0m     \u001b[39m*\u001b[39m\u001b[39m*\u001b[39mkwargs: \u001b[39mdict\u001b[39m\n\u001b[1;32m    <a href='file:///home/john/projects/DeepCVR/deepcvr/data/analyst.py?line=268'>269</a>\u001b[0m ) \u001b[39m-\u001b[39m\u001b[39m>\u001b[39m \u001b[39mNone\u001b[39;00m:\n\u001b[0;32m--> <a href='file:///home/john/projects/DeepCVR/deepcvr/data/analyst.py?line=270'>271</a>\u001b[0m     \u001b[39msuper\u001b[39;49m(CategoricalFeatureAnalyst, \u001b[39mself\u001b[39;49m)\u001b[39m.\u001b[39;49m\u001b[39m__init__\u001b[39;49m(\n\u001b[1;32m    <a href='file:///home/john/projects/DeepCVR/deepcvr/data/analyst.py?line=271'>272</a>\u001b[0m         feature_name\u001b[39m=\u001b[39;49mfeature_name,\n\u001b[1;32m    <a href='file:///home/john/projects/DeepCVR/deepcvr/data/analyst.py?line=272'>273</a>\u001b[0m         connection_string\u001b[39m=\u001b[39;49mconnection_string,\n\u001b[1;32m    <a href='file:///home/john/projects/DeepCVR/deepcvr/data/analyst.py?line=273'>274</a>\u001b[0m         fig\u001b[39m=\u001b[39;49mfig,\n\u001b[1;32m    <a href='file:///home/john/projects/DeepCVR/deepcvr/data/analyst.py?line=274'>275</a>\u001b[0m         ax\u001b[39m=\u001b[39;49max,\n\u001b[1;32m    <a href='file:///home/john/projects/DeepCVR/deepcvr/data/analyst.py?line=275'>276</a>\u001b[0m         kwargs\u001b[39m=\u001b[39;49mkwargs,\n\u001b[1;32m    <a href='file:///home/john/projects/DeepCVR/deepcvr/data/analyst.py?line=276'>277</a>\u001b[0m     )\n",
      "\u001b[0;31mTypeError\u001b[0m: __init__() missing 1 required positional argument: 'tablename'"
     ]
    },
    {
     "data": {
      "image/png": "[encoded data removed]",
      "text/plain": [
       "<Figure size 432x288 with 1 Axes>"
      ]
     },
     "metadata": {},
     "output_type": "display_data"
    }
   ],
   "source": [
    "fig, ax = plt.subplots()\n",
    "analyst = CategoricalFeatureAnalyst(feature_name='124',tablename='features',\n",
    "connection_string=connection_string,fig=fig, ax=ax)"
   ]
  },
  {
   "cell_type": "code",
   "execution_count": null,
   "metadata": {},
   "outputs": [],
   "source": [
    "df = analyst.get_data()\n",
    "df.info()"
   ]
  }
 ],
 "metadata": {
  "interpreter": {
   "hash": "b4c1728eb1d2e5aa0ad9cb608f2ae480dc35c5197350e729ffcd56015e38fc7c"
  },
  "kernelspec": {
   "display_name": "Python 3.8.12 ('deepcvr')",
   "language": "python",
   "name": "python3"
  },
  "language_info": {
   "codemirror_mode": {
    "name": "ipython",
    "version": 3
   },
   "file_extension": ".py",
   "mimetype": "text/x-python",
   "name": "python",
   "nbconvert_exporter": "python",
   "pygments_lexer": "ipython3",
   "version": "3.8.12"
  },
  "orig_nbformat": 4
 },
 "nbformat": 4,
 "nbformat_minor": 2
}
