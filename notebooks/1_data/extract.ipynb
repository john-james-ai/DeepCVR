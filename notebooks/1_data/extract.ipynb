{
 "cells": [
  {
   "cell_type": "markdown",
   "metadata": {},
   "source": [
    "# Extract Phase\n",
    "## Data Inspection"
   ]
  },
  {
   "cell_type": "code",
   "execution_count": 2,
   "metadata": {},
   "outputs": [],
   "source": [
    "import os\n",
    "import pandas as pd"
   ]
  },
  {
   "cell_type": "code",
   "execution_count": 2,
   "metadata": {},
   "outputs": [
    {
     "data": {
      "text/html": [
       "<div>\n",
       "<style scoped>\n",
       "    .dataframe tbody tr th:only-of-type {\n",
       "        vertical-align: middle;\n",
       "    }\n",
       "\n",
       "    .dataframe tbody tr th {\n",
       "        vertical-align: top;\n",
       "    }\n",
       "\n",
       "    .dataframe thead th {\n",
       "        text-align: right;\n",
       "    }\n",
       "</style>\n",
       "<table border=\"1\" class=\"dataframe\">\n",
       "  <thead>\n",
       "    <tr style=\"text-align: right;\">\n",
       "      <th></th>\n",
       "      <th>sample_id</th>\n",
       "      <th>click_label</th>\n",
       "      <th>conversion_label</th>\n",
       "      <th>common_features_index</th>\n",
       "      <th>num_features</th>\n",
       "      <th>features_list</th>\n",
       "    </tr>\n",
       "  </thead>\n",
       "  <tbody>\n",
       "    <tr>\n",
       "      <th>0</th>\n",
       "      <td>11515523</td>\n",
       "      <td>0</td>\n",
       "      <td>0</td>\n",
       "      <td>d5f794198192a713</td>\n",
       "      <td>8</td>\n",
       "      <td>207\u00028718436\u00031.0\u0001210\u00029112278\u00031.0\u0001210\u00029042899\u00031....</td>\n",
       "    </tr>\n",
       "    <tr>\n",
       "      <th>1</th>\n",
       "      <td>11060573</td>\n",
       "      <td>0</td>\n",
       "      <td>0</td>\n",
       "      <td>5ab1af84e729a269</td>\n",
       "      <td>13</td>\n",
       "      <td>210\u00029029962\u00031.0\u0001210\u00029090457\u00031.0\u0001216\u00029150651\u00031....</td>\n",
       "    </tr>\n",
       "    <tr>\n",
       "      <th>2</th>\n",
       "      <td>19579112</td>\n",
       "      <td>0</td>\n",
       "      <td>0</td>\n",
       "      <td>15100e25b3982cc3</td>\n",
       "      <td>17</td>\n",
       "      <td>301\u00029351666\u00031.0\u0001216\u00029253675\u00031.0\u0001210\u00029114481\u00031....</td>\n",
       "    </tr>\n",
       "    <tr>\n",
       "      <th>3</th>\n",
       "      <td>12131559</td>\n",
       "      <td>0</td>\n",
       "      <td>0</td>\n",
       "      <td>4e21ad4cf5b148d7</td>\n",
       "      <td>10</td>\n",
       "      <td>205\u00025565071\u00031.0\u0001210\u00029063351\u00031.0\u0001210\u00029074690\u00031....</td>\n",
       "    </tr>\n",
       "    <tr>\n",
       "      <th>4</th>\n",
       "      <td>34008079</td>\n",
       "      <td>0</td>\n",
       "      <td>0</td>\n",
       "      <td>654765381422bb63</td>\n",
       "      <td>17</td>\n",
       "      <td>210\u00029062351\u00031.0\u0001210\u00029076222\u00031.0\u0001508\u00029355077\u00030....</td>\n",
       "    </tr>\n",
       "  </tbody>\n",
       "</table>\n",
       "</div>"
      ],
      "text/plain": [
       "   sample_id  click_label  conversion_label common_features_index  \\\n",
       "0   11515523            0                 0      d5f794198192a713   \n",
       "1   11060573            0                 0      5ab1af84e729a269   \n",
       "2   19579112            0                 0      15100e25b3982cc3   \n",
       "3   12131559            0                 0      4e21ad4cf5b148d7   \n",
       "4   34008079            0                 0      654765381422bb63   \n",
       "\n",
       "   num_features                                      features_list  \n",
       "0             8  207\u00028718436\u00031.0\u0001210\u00029112278\u00031.0\u0001210\u00029042899\u00031....  \n",
       "1            13  210\u00029029962\u00031.0\u0001210\u00029090457\u00031.0\u0001216\u00029150651\u00031....  \n",
       "2            17  301\u00029351666\u00031.0\u0001216\u00029253675\u00031.0\u0001210\u00029114481\u00031....  \n",
       "3            10  205\u00025565071\u00031.0\u0001210\u00029063351\u00031.0\u0001210\u00029074690\u00031....  \n",
       "4            17  210\u00029062351\u00031.0\u0001210\u00029076222\u00031.0\u0001508\u00029355077\u00030....  "
      ]
     },
     "execution_count": 2,
     "metadata": {},
     "output_type": "execute_result"
    }
   ],
   "source": [
    "filepath = \"tests/data/preprocessed/cvr_train.csv\"\n",
    "df = pd.read_csv(filepath)\n",
    "df.head()"
   ]
  },
  {
   "cell_type": "code",
   "execution_count": 3,
   "metadata": {},
   "outputs": [
    {
     "data": {
      "text/html": [
       "<div>\n",
       "<style scoped>\n",
       "    .dataframe tbody tr th:only-of-type {\n",
       "        vertical-align: middle;\n",
       "    }\n",
       "\n",
       "    .dataframe tbody tr th {\n",
       "        vertical-align: top;\n",
       "    }\n",
       "\n",
       "    .dataframe thead th {\n",
       "        text-align: right;\n",
       "    }\n",
       "</style>\n",
       "<table border=\"1\" class=\"dataframe\">\n",
       "  <thead>\n",
       "    <tr style=\"text-align: right;\">\n",
       "      <th></th>\n",
       "      <th>common_features_index</th>\n",
       "      <th>num_features</th>\n",
       "      <th>features_list</th>\n",
       "    </tr>\n",
       "  </thead>\n",
       "  <tbody>\n",
       "    <tr>\n",
       "      <th>0</th>\n",
       "      <td>023a8f5b7b8a3348</td>\n",
       "      <td>1052</td>\n",
       "      <td>110_14\u00021438114\u00031.09861\u0001110_14\u00021846059\u00032.07944\u0001...</td>\n",
       "    </tr>\n",
       "    <tr>\n",
       "      <th>1</th>\n",
       "      <td>030dab7c09c9213d</td>\n",
       "      <td>748</td>\n",
       "      <td>150_14\u00023898063\u00033.37304\u0001150_14\u00023919604\u00032.03693\u0001...</td>\n",
       "    </tr>\n",
       "    <tr>\n",
       "      <th>2</th>\n",
       "      <td>05b3fd32a3e72c87</td>\n",
       "      <td>852</td>\n",
       "      <td>127_14\u00023494402\u00031.09861\u0001127_14\u00023818085\u00031.09861\u0001...</td>\n",
       "    </tr>\n",
       "    <tr>\n",
       "      <th>3</th>\n",
       "      <td>09ed88afc2780752</td>\n",
       "      <td>459</td>\n",
       "      <td>150_14\u00023908154\u00032.19722\u0001150_14\u00023881595\u00032.99987\u0001...</td>\n",
       "    </tr>\n",
       "    <tr>\n",
       "      <th>4</th>\n",
       "      <td>0b7a30a3cacee086</td>\n",
       "      <td>459</td>\n",
       "      <td>150_14\u00023926145\u00032.63906\u0001121\u00023438658\u00031.0\u0001122\u0002343...</td>\n",
       "    </tr>\n",
       "  </tbody>\n",
       "</table>\n",
       "</div>"
      ],
      "text/plain": [
       "  common_features_index  num_features  \\\n",
       "0      023a8f5b7b8a3348          1052   \n",
       "1      030dab7c09c9213d           748   \n",
       "2      05b3fd32a3e72c87           852   \n",
       "3      09ed88afc2780752           459   \n",
       "4      0b7a30a3cacee086           459   \n",
       "\n",
       "                                       features_list  \n",
       "0  110_14\u00021438114\u00031.09861\u0001110_14\u00021846059\u00032.07944\u0001...  \n",
       "1  150_14\u00023898063\u00033.37304\u0001150_14\u00023919604\u00032.03693\u0001...  \n",
       "2  127_14\u00023494402\u00031.09861\u0001127_14\u00023818085\u00031.09861\u0001...  \n",
       "3  150_14\u00023908154\u00032.19722\u0001150_14\u00023881595\u00032.99987\u0001...  \n",
       "4  150_14\u00023926145\u00032.63906\u0001121\u00023438658\u00031.0\u0001122\u0002343...  "
      ]
     },
     "execution_count": 3,
     "metadata": {},
     "output_type": "execute_result"
    }
   ],
   "source": [
    "filepath = \"tests/data/preprocessed/cvr_common_features_train.csv\"\n",
    "df = pd.read_csv(filepath)\n",
    "df.head()"
   ]
  }
 ],
 "metadata": {
  "interpreter": {
   "hash": "b4c1728eb1d2e5aa0ad9cb608f2ae480dc35c5197350e729ffcd56015e38fc7c"
  },
  "kernelspec": {
   "display_name": "Python 3.8.12 ('deepcvr')",
   "language": "python",
   "name": "python3"
  },
  "language_info": {
   "codemirror_mode": {
    "name": "ipython",
    "version": 3
   },
   "file_extension": ".py",
   "mimetype": "text/x-python",
   "name": "python",
   "nbconvert_exporter": "python",
   "pygments_lexer": "ipython3",
   "version": "3.8.12"
  },
  "orig_nbformat": 4
 },
 "nbformat": 4,
 "nbformat_minor": 2
}
