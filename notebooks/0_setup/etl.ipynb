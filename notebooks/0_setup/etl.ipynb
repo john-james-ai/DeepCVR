{
 "cells": [
  {
   "cell_type": "markdown",
   "metadata": {},
   "source": [
    "# ETL\n",
    "## Development Datasets\n",
    "Create development datasets consisting of the top 'nrows' observations from each file"
   ]
  },
  {
   "cell_type": "code",
   "execution_count": 1,
   "metadata": {
    "tags": [
     "hide-cell"
    ]
   },
   "outputs": [],
   "source": [
    "# Imports\n",
    "import pandas as pd\n",
    "import re\n"
   ]
  },
  {
   "cell_type": "code",
   "execution_count": 2,
   "metadata": {
    "tags": [
     "hide-input"
    ]
   },
   "outputs": [],
   "source": [
    "# Constants \n",
    "NROWS = 100\n",
    "# Training Sets\n",
    "FILEPATH_TRAIN_CORE_RAW = \"data/raw/sample_skeleton_train.csv\"\n",
    "FILEPATH_TRAIN_CORE_DEVELOPMENT = \"data/development/sample_skeleton_train.csv\"\n",
    "FILEPATH_TRAIN_COMMON_FEATURES_RAW = \"data/raw/common_features_train.csv\"\n",
    "FILEPATH_TRAIN_COMMON_FEATURES_DEVELOPMENT = \"data/development/common_features_train.csv\"\n",
    "# Test Sets\n",
    "FILEPATH_TEST_CORE_RAW = \"data/raw/sample_skeleton_test.csv\"\n",
    "FILEPATH_TEST_CORE_DEVELOPMENT = \"data/development/sample_skeleton_test.csv\"\n",
    "FILEPATH_TEST_COMMON_FEATURES_RAW = \"data/raw/common_features_test.csv\"\n",
    "FILEPATH_TEST_COMMON_FEATURES_DEVELOPMENT = \"data/development/common_features_test.csv\""
   ]
  },
  {
   "cell_type": "markdown",
   "metadata": {},
   "source": [
    "## Core Datasets\n",
    "### Training Set"
   ]
  },
  {
   "cell_type": "code",
   "execution_count": 3,
   "metadata": {},
   "outputs": [
    {
     "data": {
      "text/html": [
       "<div>\n",
       "<style scoped>\n",
       "    .dataframe tbody tr th:only-of-type {\n",
       "        vertical-align: middle;\n",
       "    }\n",
       "\n",
       "    .dataframe tbody tr th {\n",
       "        vertical-align: top;\n",
       "    }\n",
       "\n",
       "    .dataframe thead th {\n",
       "        text-align: right;\n",
       "    }\n",
       "</style>\n",
       "<table border=\"1\" class=\"dataframe\">\n",
       "  <thead>\n",
       "    <tr style=\"text-align: right;\">\n",
       "      <th></th>\n",
       "      <th>0</th>\n",
       "      <th>1</th>\n",
       "      <th>2</th>\n",
       "      <th>3</th>\n",
       "      <th>4</th>\n",
       "      <th>5</th>\n",
       "    </tr>\n",
       "  </thead>\n",
       "  <tbody>\n",
       "    <tr>\n",
       "      <th>0</th>\n",
       "      <td>1</td>\n",
       "      <td>0</td>\n",
       "      <td>0</td>\n",
       "      <td>bacff91692951881</td>\n",
       "      <td>9</td>\n",
       "      <td>210\u00029052218\u00031.0\u0001210\u00029064553\u00031.0\u0001210\u00029093445\u00031....</td>\n",
       "    </tr>\n",
       "    <tr>\n",
       "      <th>1</th>\n",
       "      <td>2</td>\n",
       "      <td>0</td>\n",
       "      <td>0</td>\n",
       "      <td>bacff91692951881</td>\n",
       "      <td>10</td>\n",
       "      <td>210\u00029109732\u00031.0\u0001210\u00029046284\u00031.0\u0001210\u00029099035\u00031....</td>\n",
       "    </tr>\n",
       "    <tr>\n",
       "      <th>2</th>\n",
       "      <td>3</td>\n",
       "      <td>1</td>\n",
       "      <td>0</td>\n",
       "      <td>bacff91692951881</td>\n",
       "      <td>20</td>\n",
       "      <td>210\u00029089731\u00031.0\u0001210\u00029047560\u00031.0\u0001509\u00029511769\u00032....</td>\n",
       "    </tr>\n",
       "    <tr>\n",
       "      <th>3</th>\n",
       "      <td>4</td>\n",
       "      <td>0</td>\n",
       "      <td>0</td>\n",
       "      <td>bacff91692951881</td>\n",
       "      <td>13</td>\n",
       "      <td>301\u00029351665\u00031.0\u0001210\u00029050364\u00031.0\u0001210\u00029083388\u00031....</td>\n",
       "    </tr>\n",
       "    <tr>\n",
       "      <th>4</th>\n",
       "      <td>5</td>\n",
       "      <td>0</td>\n",
       "      <td>0</td>\n",
       "      <td>bacff91692951881</td>\n",
       "      <td>9</td>\n",
       "      <td>205\u00024945663\u00031.0\u0001301\u00029351665\u00031.0\u0001216\u00029172179\u00031....</td>\n",
       "    </tr>\n",
       "  </tbody>\n",
       "</table>\n",
       "</div>"
      ],
      "text/plain": [
       "   0  1  2                 3   4  \\\n",
       "0  1  0  0  bacff91692951881   9   \n",
       "1  2  0  0  bacff91692951881  10   \n",
       "2  3  1  0  bacff91692951881  20   \n",
       "3  4  0  0  bacff91692951881  13   \n",
       "4  5  0  0  bacff91692951881   9   \n",
       "\n",
       "                                                   5  \n",
       "0  210\u00029052218\u00031.0\u0001210\u00029064553\u00031.0\u0001210\u00029093445\u00031....  \n",
       "1  210\u00029109732\u00031.0\u0001210\u00029046284\u00031.0\u0001210\u00029099035\u00031....  \n",
       "2  210\u00029089731\u00031.0\u0001210\u00029047560\u00031.0\u0001509\u00029511769\u00032....  \n",
       "3  301\u00029351665\u00031.0\u0001210\u00029050364\u00031.0\u0001210\u00029083388\u00031....  \n",
       "4  205\u00024945663\u00031.0\u0001301\u00029351665\u00031.0\u0001216\u00029172179\u00031....  "
      ]
     },
     "execution_count": 3,
     "metadata": {},
     "output_type": "execute_result"
    }
   ],
   "source": [
    "# Extract samples from core training set\n",
    "df = pd.read_csv(FILEPATH_TRAIN_CORE_DEVELOPMENT,index_col=None, header=None)\n",
    "df.head()"
   ]
  },
  {
   "cell_type": "markdown",
   "metadata": {},
   "source": [
    "### Test Set"
   ]
  },
  {
   "cell_type": "code",
   "execution_count": 4,
   "metadata": {},
   "outputs": [
    {
     "data": {
      "text/html": [
       "<div>\n",
       "<style scoped>\n",
       "    .dataframe tbody tr th:only-of-type {\n",
       "        vertical-align: middle;\n",
       "    }\n",
       "\n",
       "    .dataframe tbody tr th {\n",
       "        vertical-align: top;\n",
       "    }\n",
       "\n",
       "    .dataframe thead th {\n",
       "        text-align: right;\n",
       "    }\n",
       "</style>\n",
       "<table border=\"1\" class=\"dataframe\">\n",
       "  <thead>\n",
       "    <tr style=\"text-align: right;\">\n",
       "      <th></th>\n",
       "      <th>0</th>\n",
       "      <th>1</th>\n",
       "      <th>2</th>\n",
       "      <th>3</th>\n",
       "      <th>4</th>\n",
       "      <th>5</th>\n",
       "    </tr>\n",
       "  </thead>\n",
       "  <tbody>\n",
       "    <tr>\n",
       "      <th>0</th>\n",
       "      <td>1</td>\n",
       "      <td>0</td>\n",
       "      <td>0</td>\n",
       "      <td>23bd0f75de327c60</td>\n",
       "      <td>14</td>\n",
       "      <td>216\u00029181078\u00031.0\u0001301\u00029351665\u00031.0\u0001205\u00025587143\u00031....</td>\n",
       "    </tr>\n",
       "    <tr>\n",
       "      <th>1</th>\n",
       "      <td>2</td>\n",
       "      <td>0</td>\n",
       "      <td>0</td>\n",
       "      <td>23bd0f75de327c60</td>\n",
       "      <td>15</td>\n",
       "      <td>205\u00025662732\u00031.0\u0001206\u00028316893\u00031.0\u0001207\u00028987328\u00031....</td>\n",
       "    </tr>\n",
       "    <tr>\n",
       "      <th>2</th>\n",
       "      <td>3</td>\n",
       "      <td>0</td>\n",
       "      <td>0</td>\n",
       "      <td>23bd0f75de327c60</td>\n",
       "      <td>12</td>\n",
       "      <td>206\u00028315405\u00031.0\u0001205\u00026539512\u00031.0\u0001301\u00029351665\u00031....</td>\n",
       "    </tr>\n",
       "    <tr>\n",
       "      <th>3</th>\n",
       "      <td>4</td>\n",
       "      <td>0</td>\n",
       "      <td>0</td>\n",
       "      <td>23bd0f75de327c60</td>\n",
       "      <td>11</td>\n",
       "      <td>509\u00029686171\u00032.99573\u0001210\u00029068992\u00031.0\u0001207\u0002880102...</td>\n",
       "    </tr>\n",
       "    <tr>\n",
       "      <th>4</th>\n",
       "      <td>5</td>\n",
       "      <td>0</td>\n",
       "      <td>0</td>\n",
       "      <td>543b0cd53c7d5858</td>\n",
       "      <td>11</td>\n",
       "      <td>206\u00028317093\u00031.0\u0001508\u00029355323\u00032.63906\u0001210\u0002902041...</td>\n",
       "    </tr>\n",
       "  </tbody>\n",
       "</table>\n",
       "</div>"
      ],
      "text/plain": [
       "   0  1  2                 3   4  \\\n",
       "0  1  0  0  23bd0f75de327c60  14   \n",
       "1  2  0  0  23bd0f75de327c60  15   \n",
       "2  3  0  0  23bd0f75de327c60  12   \n",
       "3  4  0  0  23bd0f75de327c60  11   \n",
       "4  5  0  0  543b0cd53c7d5858  11   \n",
       "\n",
       "                                                   5  \n",
       "0  216\u00029181078\u00031.0\u0001301\u00029351665\u00031.0\u0001205\u00025587143\u00031....  \n",
       "1  205\u00025662732\u00031.0\u0001206\u00028316893\u00031.0\u0001207\u00028987328\u00031....  \n",
       "2  206\u00028315405\u00031.0\u0001205\u00026539512\u00031.0\u0001301\u00029351665\u00031....  \n",
       "3  509\u00029686171\u00032.99573\u0001210\u00029068992\u00031.0\u0001207\u0002880102...  \n",
       "4  206\u00028317093\u00031.0\u0001508\u00029355323\u00032.63906\u0001210\u0002902041...  "
      ]
     },
     "execution_count": 4,
     "metadata": {},
     "output_type": "execute_result"
    }
   ],
   "source": [
    "# Extract samples from core test set\n",
    "df = pd.read_csv(FILEPATH_TEST_CORE_DEVELOPMENT,index_col=None, header=None)\n",
    "df.head()"
   ]
  },
  {
   "cell_type": "markdown",
   "metadata": {},
   "source": [
    "## Common Datasets\n",
    "### Training Set"
   ]
  },
  {
   "cell_type": "code",
   "execution_count": 5,
   "metadata": {},
   "outputs": [
    {
     "data": {
      "text/html": [
       "<div>\n",
       "<style scoped>\n",
       "    .dataframe tbody tr th:only-of-type {\n",
       "        vertical-align: middle;\n",
       "    }\n",
       "\n",
       "    .dataframe tbody tr th {\n",
       "        vertical-align: top;\n",
       "    }\n",
       "\n",
       "    .dataframe thead th {\n",
       "        text-align: right;\n",
       "    }\n",
       "</style>\n",
       "<table border=\"1\" class=\"dataframe\">\n",
       "  <thead>\n",
       "    <tr style=\"text-align: right;\">\n",
       "      <th></th>\n",
       "      <th>0</th>\n",
       "      <th>1</th>\n",
       "      <th>2</th>\n",
       "    </tr>\n",
       "  </thead>\n",
       "  <tbody>\n",
       "    <tr>\n",
       "      <th>0</th>\n",
       "      <td>84dceed2e3a667f8</td>\n",
       "      <td>343</td>\n",
       "      <td>101\u000231319\u00031.0\u0001125\u00023438774\u00031.0\u0001126\u00023438779\u00031.0\u0001...</td>\n",
       "    </tr>\n",
       "    <tr>\n",
       "      <th>1</th>\n",
       "      <td>0000350f0c2121e7</td>\n",
       "      <td>811</td>\n",
       "      <td>127_14\u00023716224\u00031.94591\u0001127_14\u00023514627\u00030.69315\u0001...</td>\n",
       "    </tr>\n",
       "    <tr>\n",
       "      <th>2</th>\n",
       "      <td>000091a89d1867ab</td>\n",
       "      <td>7</td>\n",
       "      <td>125\u00023438773\u00031.0\u0001124\u00023438769\u00031.0\u0001122\u00023438761\u00031....</td>\n",
       "    </tr>\n",
       "    <tr>\n",
       "      <th>3</th>\n",
       "      <td>0001a4114b0ae8bf</td>\n",
       "      <td>231</td>\n",
       "      <td>150_14\u00023916684\u00032.3979\u0001150_14\u00023940798\u00031.07056\u00011...</td>\n",
       "    </tr>\n",
       "    <tr>\n",
       "      <th>4</th>\n",
       "      <td>0001def19d7cb335</td>\n",
       "      <td>964</td>\n",
       "      <td>150_14\u00023909150\u00030.84715\u0001150_14\u00023933013\u00034.44265\u0001...</td>\n",
       "    </tr>\n",
       "  </tbody>\n",
       "</table>\n",
       "</div>"
      ],
      "text/plain": [
       "                  0    1                                                  2\n",
       "0  84dceed2e3a667f8  343  101\u000231319\u00031.0\u0001125\u00023438774\u00031.0\u0001126\u00023438779\u00031.0\u0001...\n",
       "1  0000350f0c2121e7  811  127_14\u00023716224\u00031.94591\u0001127_14\u00023514627\u00030.69315\u0001...\n",
       "2  000091a89d1867ab    7  125\u00023438773\u00031.0\u0001124\u00023438769\u00031.0\u0001122\u00023438761\u00031....\n",
       "3  0001a4114b0ae8bf  231  150_14\u00023916684\u00032.3979\u0001150_14\u00023940798\u00031.07056\u00011...\n",
       "4  0001def19d7cb335  964  150_14\u00023909150\u00030.84715\u0001150_14\u00023933013\u00034.44265\u0001..."
      ]
     },
     "execution_count": 5,
     "metadata": {},
     "output_type": "execute_result"
    }
   ],
   "source": [
    "# Extract samples from common training set\n",
    "df = pd.read_csv(FILEPATH_TRAIN_COMMON_FEATURES_DEVELOPMENT,index_col=None, header=None)\n",
    "df.head()"
   ]
  },
  {
   "cell_type": "markdown",
   "metadata": {},
   "source": [
    "### Test Set"
   ]
  },
  {
   "cell_type": "code",
   "execution_count": 6,
   "metadata": {},
   "outputs": [
    {
     "data": {
      "text/html": [
       "<div>\n",
       "<style scoped>\n",
       "    .dataframe tbody tr th:only-of-type {\n",
       "        vertical-align: middle;\n",
       "    }\n",
       "\n",
       "    .dataframe tbody tr th {\n",
       "        vertical-align: top;\n",
       "    }\n",
       "\n",
       "    .dataframe thead th {\n",
       "        text-align: right;\n",
       "    }\n",
       "</style>\n",
       "<table border=\"1\" class=\"dataframe\">\n",
       "  <thead>\n",
       "    <tr style=\"text-align: right;\">\n",
       "      <th></th>\n",
       "      <th>0</th>\n",
       "      <th>1</th>\n",
       "      <th>2</th>\n",
       "    </tr>\n",
       "  </thead>\n",
       "  <tbody>\n",
       "    <tr>\n",
       "      <th>0</th>\n",
       "      <td>810d5366057b3f58</td>\n",
       "      <td>1025</td>\n",
       "      <td>101\u0002412797\u00031.0\u0001125\u00023438772\u00031.0\u0001126\u00023438778\u00031.0...</td>\n",
       "    </tr>\n",
       "    <tr>\n",
       "      <th>1</th>\n",
       "      <td>0001970d9ebf72cf</td>\n",
       "      <td>126</td>\n",
       "      <td>150_14\u00023889686\u00032.03693\u0001150_14\u00023884084\u00030.15444\u0001...</td>\n",
       "    </tr>\n",
       "    <tr>\n",
       "      <th>2</th>\n",
       "      <td>0010d0b9633bb5b0</td>\n",
       "      <td>250</td>\n",
       "      <td>126\u00023438777\u00031.0\u0001127\u00023438782\u00031.0\u0001128\u00023864886\u00031....</td>\n",
       "    </tr>\n",
       "    <tr>\n",
       "      <th>3</th>\n",
       "      <td>0012aad1f55312b6</td>\n",
       "      <td>170</td>\n",
       "      <td>127\u00023438782\u00031.0\u0001125\u00023438772\u00031.0\u0001124\u00023438768\u00031....</td>\n",
       "    </tr>\n",
       "    <tr>\n",
       "      <th>4</th>\n",
       "      <td>0013e5c24e8dd3a6</td>\n",
       "      <td>617</td>\n",
       "      <td>150_14\u00023874304\u00030.15444\u0001150_14\u00023900579\u00030.98095\u0001...</td>\n",
       "    </tr>\n",
       "  </tbody>\n",
       "</table>\n",
       "</div>"
      ],
      "text/plain": [
       "                  0     1                                                  2\n",
       "0  810d5366057b3f58  1025  101\u0002412797\u00031.0\u0001125\u00023438772\u00031.0\u0001126\u00023438778\u00031.0...\n",
       "1  0001970d9ebf72cf   126  150_14\u00023889686\u00032.03693\u0001150_14\u00023884084\u00030.15444\u0001...\n",
       "2  0010d0b9633bb5b0   250  126\u00023438777\u00031.0\u0001127\u00023438782\u00031.0\u0001128\u00023864886\u00031....\n",
       "3  0012aad1f55312b6   170  127\u00023438782\u00031.0\u0001125\u00023438772\u00031.0\u0001124\u00023438768\u00031....\n",
       "4  0013e5c24e8dd3a6   617  150_14\u00023874304\u00030.15444\u0001150_14\u00023900579\u00030.98095\u0001..."
      ]
     },
     "execution_count": 6,
     "metadata": {},
     "output_type": "execute_result"
    }
   ],
   "source": [
    "# Extract samples from common features test set\n",
    "df = pd.read_csv(FILEPATH_TEST_COMMON_FEATURES_DEVELOPMENT,index_col=None, header=None)\n",
    "df.head()"
   ]
  },
  {
   "cell_type": "code",
   "execution_count": 4,
   "metadata": {},
   "outputs": [
    {
     "name": "stdout",
     "output_type": "stream",
     "text": [
      "['210', '210', '210', '216', '301', '205', '206', '207', '508']\n",
      "[9052218, 9064553, 9093445, 9154780, 9351665, 4186222, 8316799, 8416205, 9355039]\n",
      "[1.0, 1.0, 1.0, 1.0, 1.0, 1.0, 1.0, 1.0, 0.69315]\n"
     ]
    }
   ],
   "source": [
    "feature_string = df.head(1)[5].values[0]\n",
    "features = re.split(\"\\x01\",feature_string)\n",
    "feature_names = []\n",
    "feature_ids = []\n",
    "feature_values = []\n",
    "for feature in features:\n",
    "    name, id, value = re.split(\"\\x01|\\x02|\\x03\",feature)\n",
    "    feature_names.append(name)\n",
    "    feature_ids.append(int(id))\n",
    "    feature_values.append(float(value))\n",
    "\n",
    "print(feature_names)\n",
    "print(feature_ids)\n",
    "print(feature_values)\n",
    "\n",
    "\n",
    "    \n"
   ]
  },
  {
   "cell_type": "code",
   "execution_count": 5,
   "metadata": {},
   "outputs": [],
   "source": [
    "# Create downsampled common features training set \n",
    "df = pd.read_csv(FILEPATH_TRAIN_COMMON_FEATURES_RAW,nrows=10000, index_col=False, header=None)\n",
    "df.to_csv(FILEPATH_TRAIN_COMMON_FEATURES_DEVELOPMENT,index=False, header=None)\n",
    "\n"
   ]
  },
  {
   "cell_type": "code",
   "execution_count": 6,
   "metadata": {},
   "outputs": [
    {
     "data": {
      "text/html": [
       "<div>\n",
       "<style scoped>\n",
       "    .dataframe tbody tr th:only-of-type {\n",
       "        vertical-align: middle;\n",
       "    }\n",
       "\n",
       "    .dataframe tbody tr th {\n",
       "        vertical-align: top;\n",
       "    }\n",
       "\n",
       "    .dataframe thead th {\n",
       "        text-align: right;\n",
       "    }\n",
       "</style>\n",
       "<table border=\"1\" class=\"dataframe\">\n",
       "  <thead>\n",
       "    <tr style=\"text-align: right;\">\n",
       "      <th></th>\n",
       "      <th>0</th>\n",
       "      <th>1</th>\n",
       "      <th>2</th>\n",
       "    </tr>\n",
       "  </thead>\n",
       "  <tbody>\n",
       "    <tr>\n",
       "      <th>0</th>\n",
       "      <td>84dceed2e3a667f8</td>\n",
       "      <td>343</td>\n",
       "      <td>101\u000231319\u00031.0\u0001125\u00023438774\u00031.0\u0001126\u00023438779\u00031.0\u0001...</td>\n",
       "    </tr>\n",
       "    <tr>\n",
       "      <th>1</th>\n",
       "      <td>0000350f0c2121e7</td>\n",
       "      <td>811</td>\n",
       "      <td>127_14\u00023716224\u00031.94591\u0001127_14\u00023514627\u00030.69315\u0001...</td>\n",
       "    </tr>\n",
       "    <tr>\n",
       "      <th>2</th>\n",
       "      <td>000091a89d1867ab</td>\n",
       "      <td>7</td>\n",
       "      <td>125\u00023438773\u00031.0\u0001124\u00023438769\u00031.0\u0001122\u00023438761\u00031....</td>\n",
       "    </tr>\n",
       "    <tr>\n",
       "      <th>3</th>\n",
       "      <td>0001a4114b0ae8bf</td>\n",
       "      <td>231</td>\n",
       "      <td>150_14\u00023916684\u00032.3979\u0001150_14\u00023940798\u00031.07056\u00011...</td>\n",
       "    </tr>\n",
       "    <tr>\n",
       "      <th>4</th>\n",
       "      <td>0001def19d7cb335</td>\n",
       "      <td>964</td>\n",
       "      <td>150_14\u00023909150\u00030.84715\u0001150_14\u00023933013\u00034.44265\u0001...</td>\n",
       "    </tr>\n",
       "  </tbody>\n",
       "</table>\n",
       "</div>"
      ],
      "text/plain": [
       "                  0    1                                                  2\n",
       "0  84dceed2e3a667f8  343  101\u000231319\u00031.0\u0001125\u00023438774\u00031.0\u0001126\u00023438779\u00031.0\u0001...\n",
       "1  0000350f0c2121e7  811  127_14\u00023716224\u00031.94591\u0001127_14\u00023514627\u00030.69315\u0001...\n",
       "2  000091a89d1867ab    7  125\u00023438773\u00031.0\u0001124\u00023438769\u00031.0\u0001122\u00023438761\u00031....\n",
       "3  0001a4114b0ae8bf  231  150_14\u00023916684\u00032.3979\u0001150_14\u00023940798\u00031.07056\u00011...\n",
       "4  0001def19d7cb335  964  150_14\u00023909150\u00030.84715\u0001150_14\u00023933013\u00034.44265\u0001..."
      ]
     },
     "execution_count": 6,
     "metadata": {},
     "output_type": "execute_result"
    }
   ],
   "source": [
    "df.head()"
   ]
  },
  {
   "cell_type": "code",
   "execution_count": 7,
   "metadata": {},
   "outputs": [
    {
     "data": {
      "text/html": [
       "<div>\n",
       "<style scoped>\n",
       "    .dataframe tbody tr th:only-of-type {\n",
       "        vertical-align: middle;\n",
       "    }\n",
       "\n",
       "    .dataframe tbody tr th {\n",
       "        vertical-align: top;\n",
       "    }\n",
       "\n",
       "    .dataframe thead th {\n",
       "        text-align: right;\n",
       "    }\n",
       "</style>\n",
       "<table border=\"1\" class=\"dataframe\">\n",
       "  <thead>\n",
       "    <tr style=\"text-align: right;\">\n",
       "      <th></th>\n",
       "      <th>sample_id</th>\n",
       "      <th>click_label</th>\n",
       "      <th>conversion_label</th>\n",
       "      <th>num_core_features</th>\n",
       "      <th>common_features_index</th>\n",
       "    </tr>\n",
       "  </thead>\n",
       "  <tbody>\n",
       "    <tr>\n",
       "      <th>0</th>\n",
       "      <td>0</td>\n",
       "      <td>1</td>\n",
       "      <td>2</td>\n",
       "      <td>4</td>\n",
       "      <td>3</td>\n",
       "    </tr>\n",
       "    <tr>\n",
       "      <th>1</th>\n",
       "      <td>1</td>\n",
       "      <td>0</td>\n",
       "      <td>0</td>\n",
       "      <td>9</td>\n",
       "      <td>bacff91692951881</td>\n",
       "    </tr>\n",
       "    <tr>\n",
       "      <th>2</th>\n",
       "      <td>2</td>\n",
       "      <td>0</td>\n",
       "      <td>0</td>\n",
       "      <td>10</td>\n",
       "      <td>bacff91692951881</td>\n",
       "    </tr>\n",
       "    <tr>\n",
       "      <th>3</th>\n",
       "      <td>3</td>\n",
       "      <td>1</td>\n",
       "      <td>0</td>\n",
       "      <td>20</td>\n",
       "      <td>bacff91692951881</td>\n",
       "    </tr>\n",
       "    <tr>\n",
       "      <th>4</th>\n",
       "      <td>4</td>\n",
       "      <td>0</td>\n",
       "      <td>0</td>\n",
       "      <td>13</td>\n",
       "      <td>bacff91692951881</td>\n",
       "    </tr>\n",
       "  </tbody>\n",
       "</table>\n",
       "</div>"
      ],
      "text/plain": [
       "   sample_id  click_label  conversion_label  num_core_features  \\\n",
       "0          0            1                 2                  4   \n",
       "1          1            0                 0                  9   \n",
       "2          2            0                 0                 10   \n",
       "3          3            1                 0                 20   \n",
       "4          4            0                 0                 13   \n",
       "\n",
       "  common_features_index  \n",
       "0                     3  \n",
       "1      bacff91692951881  \n",
       "2      bacff91692951881  \n",
       "3      bacff91692951881  \n",
       "4      bacff91692951881  "
      ]
     },
     "execution_count": 7,
     "metadata": {},
     "output_type": "execute_result"
    }
   ],
   "source": [
    "fp = \"data/staged/impressions.csv\"\n",
    "df = pd.read_csv(fp, nrows=1000, index_col=False)\n",
    "df.head()"
   ]
  }
 ],
 "metadata": {
  "interpreter": {
   "hash": "b4c1728eb1d2e5aa0ad9cb608f2ae480dc35c5197350e729ffcd56015e38fc7c"
  },
  "kernelspec": {
   "display_name": "Python 3.8.12 ('deepcvr')",
   "language": "python",
   "name": "python3"
  },
  "language_info": {
   "codemirror_mode": {
    "name": "ipython",
    "version": 3
   },
   "file_extension": ".py",
   "mimetype": "text/x-python",
   "name": "python",
   "nbconvert_exporter": "python",
   "pygments_lexer": "ipython3",
   "version": "3.8.12"
  }
 },
 "nbformat": 4,
 "nbformat_minor": 2
}
