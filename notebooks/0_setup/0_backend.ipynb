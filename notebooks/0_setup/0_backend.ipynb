{
 "cells": [
  {
   "cell_type": "markdown",
   "metadata": {},
   "source": [
    "# Airflow \n",
    "## Database Backend Setup"
   ]
  },
  {
   "cell_type": "code",
   "execution_count": 1,
   "metadata": {
    "tags": [
     "hide-cell"
    ]
   },
   "outputs": [],
   "source": [
    "# Imports\n",
    "from deepcvr.data.database import DeepCVRDb\n",
    "from deepcvr.data.sql import CreateAirflowDatabase, CreateAirflowUser, GrantAirflowUser\n",
    "from deepcvr.utils.config import MySQLConfig"
   ]
  },
  {
   "cell_type": "code",
   "execution_count": 2,
   "metadata": {},
   "outputs": [
    {
     "name": "stderr",
     "output_type": "stream",
     "text": [
      "DEBUG:deepcvr.data.database:\tStarted DeepCVRDb connect\n",
      "DEBUG:deepcvr.data.database:\tCompleting DeepCVRDb connect\n",
      "DEBUG:deepcvr.data.database:\tStarted DeepCVRDb execute\n",
      "INFO:deepcvr.data.database:Create Airflow MYSQL Database Successful\n",
      "DEBUG:deepcvr.data.database:\tCompleted DeepCVRDb execute\n",
      "DEBUG:deepcvr.data.database:\tStarted DeepCVRDb execute\n",
      "ERROR:deepcvr.data.database:(1396, \"Operation CREATE USER failed for 'airflow_user'@'%'\")\n"
     ]
    },
    {
     "ename": "Exception",
     "evalue": "(1396, \"Operation CREATE USER failed for 'airflow_user'@'%'\")",
     "output_type": "error",
     "traceback": [
      "\u001b[0;31m---------------------------------------------------------------------------\u001b[0m",
      "\u001b[0;31mOperationalError\u001b[0m                          Traceback (most recent call last)",
      "File \u001b[0;32m~/projects/DeepCVR/deepcvr/data/database.py:66\u001b[0m, in \u001b[0;36mDeepCVRDb.execute\u001b[0;34m(self, query)\u001b[0m\n\u001b[1;32m     <a href='file:///~/projects/DeepCVR/deepcvr/data/database.py?line=64'>65</a>\u001b[0m \u001b[39melse\u001b[39;00m:\n\u001b[0;32m---> <a href='file:///~/projects/DeepCVR/deepcvr/data/database.py?line=65'>66</a>\u001b[0m     cursor\u001b[39m.\u001b[39;49mexecute(query\u001b[39m.\u001b[39;49msql)\n\u001b[1;32m     <a href='file:///~/projects/DeepCVR/deepcvr/data/database.py?line=66'>67</a>\u001b[0m \u001b[39mself\u001b[39m\u001b[39m.\u001b[39m_con\u001b[39m.\u001b[39mcommit()\n",
      "File \u001b[0;32m~/anaconda3/envs/deepcvr/lib/python3.8/site-packages/pymysql/cursors.py:148\u001b[0m, in \u001b[0;36mCursor.execute\u001b[0;34m(self, query, args)\u001b[0m\n\u001b[1;32m    <a href='file:///~/anaconda3/envs/deepcvr/lib/python3.8/site-packages/pymysql/cursors.py?line=145'>146</a>\u001b[0m query \u001b[39m=\u001b[39m \u001b[39mself\u001b[39m\u001b[39m.\u001b[39mmogrify(query, args)\n\u001b[0;32m--> <a href='file:///~/anaconda3/envs/deepcvr/lib/python3.8/site-packages/pymysql/cursors.py?line=147'>148</a>\u001b[0m result \u001b[39m=\u001b[39m \u001b[39mself\u001b[39;49m\u001b[39m.\u001b[39;49m_query(query)\n\u001b[1;32m    <a href='file:///~/anaconda3/envs/deepcvr/lib/python3.8/site-packages/pymysql/cursors.py?line=148'>149</a>\u001b[0m \u001b[39mself\u001b[39m\u001b[39m.\u001b[39m_executed \u001b[39m=\u001b[39m query\n",
      "File \u001b[0;32m~/anaconda3/envs/deepcvr/lib/python3.8/site-packages/pymysql/cursors.py:310\u001b[0m, in \u001b[0;36mCursor._query\u001b[0;34m(self, q)\u001b[0m\n\u001b[1;32m    <a href='file:///~/anaconda3/envs/deepcvr/lib/python3.8/site-packages/pymysql/cursors.py?line=308'>309</a>\u001b[0m \u001b[39mself\u001b[39m\u001b[39m.\u001b[39m_clear_result()\n\u001b[0;32m--> <a href='file:///~/anaconda3/envs/deepcvr/lib/python3.8/site-packages/pymysql/cursors.py?line=309'>310</a>\u001b[0m conn\u001b[39m.\u001b[39;49mquery(q)\n\u001b[1;32m    <a href='file:///~/anaconda3/envs/deepcvr/lib/python3.8/site-packages/pymysql/cursors.py?line=310'>311</a>\u001b[0m \u001b[39mself\u001b[39m\u001b[39m.\u001b[39m_do_get_result()\n",
      "File \u001b[0;32m~/anaconda3/envs/deepcvr/lib/python3.8/site-packages/pymysql/connections.py:548\u001b[0m, in \u001b[0;36mConnection.query\u001b[0;34m(self, sql, unbuffered)\u001b[0m\n\u001b[1;32m    <a href='file:///~/anaconda3/envs/deepcvr/lib/python3.8/site-packages/pymysql/connections.py?line=546'>547</a>\u001b[0m \u001b[39mself\u001b[39m\u001b[39m.\u001b[39m_execute_command(COMMAND\u001b[39m.\u001b[39mCOM_QUERY, sql)\n\u001b[0;32m--> <a href='file:///~/anaconda3/envs/deepcvr/lib/python3.8/site-packages/pymysql/connections.py?line=547'>548</a>\u001b[0m \u001b[39mself\u001b[39m\u001b[39m.\u001b[39m_affected_rows \u001b[39m=\u001b[39m \u001b[39mself\u001b[39;49m\u001b[39m.\u001b[39;49m_read_query_result(unbuffered\u001b[39m=\u001b[39;49munbuffered)\n\u001b[1;32m    <a href='file:///~/anaconda3/envs/deepcvr/lib/python3.8/site-packages/pymysql/connections.py?line=548'>549</a>\u001b[0m \u001b[39mreturn\u001b[39;00m \u001b[39mself\u001b[39m\u001b[39m.\u001b[39m_affected_rows\n",
      "File \u001b[0;32m~/anaconda3/envs/deepcvr/lib/python3.8/site-packages/pymysql/connections.py:775\u001b[0m, in \u001b[0;36mConnection._read_query_result\u001b[0;34m(self, unbuffered)\u001b[0m\n\u001b[1;32m    <a href='file:///~/anaconda3/envs/deepcvr/lib/python3.8/site-packages/pymysql/connections.py?line=773'>774</a>\u001b[0m     result \u001b[39m=\u001b[39m MySQLResult(\u001b[39mself\u001b[39m)\n\u001b[0;32m--> <a href='file:///~/anaconda3/envs/deepcvr/lib/python3.8/site-packages/pymysql/connections.py?line=774'>775</a>\u001b[0m     result\u001b[39m.\u001b[39;49mread()\n\u001b[1;32m    <a href='file:///~/anaconda3/envs/deepcvr/lib/python3.8/site-packages/pymysql/connections.py?line=775'>776</a>\u001b[0m \u001b[39mself\u001b[39m\u001b[39m.\u001b[39m_result \u001b[39m=\u001b[39m result\n",
      "File \u001b[0;32m~/anaconda3/envs/deepcvr/lib/python3.8/site-packages/pymysql/connections.py:1156\u001b[0m, in \u001b[0;36mMySQLResult.read\u001b[0;34m(self)\u001b[0m\n\u001b[1;32m   <a href='file:///~/anaconda3/envs/deepcvr/lib/python3.8/site-packages/pymysql/connections.py?line=1154'>1155</a>\u001b[0m \u001b[39mtry\u001b[39;00m:\n\u001b[0;32m-> <a href='file:///~/anaconda3/envs/deepcvr/lib/python3.8/site-packages/pymysql/connections.py?line=1155'>1156</a>\u001b[0m     first_packet \u001b[39m=\u001b[39m \u001b[39mself\u001b[39;49m\u001b[39m.\u001b[39;49mconnection\u001b[39m.\u001b[39;49m_read_packet()\n\u001b[1;32m   <a href='file:///~/anaconda3/envs/deepcvr/lib/python3.8/site-packages/pymysql/connections.py?line=1157'>1158</a>\u001b[0m     \u001b[39mif\u001b[39;00m first_packet\u001b[39m.\u001b[39mis_ok_packet():\n",
      "File \u001b[0;32m~/anaconda3/envs/deepcvr/lib/python3.8/site-packages/pymysql/connections.py:725\u001b[0m, in \u001b[0;36mConnection._read_packet\u001b[0;34m(self, packet_type)\u001b[0m\n\u001b[1;32m    <a href='file:///~/anaconda3/envs/deepcvr/lib/python3.8/site-packages/pymysql/connections.py?line=723'>724</a>\u001b[0m         \u001b[39mself\u001b[39m\u001b[39m.\u001b[39m_result\u001b[39m.\u001b[39munbuffered_active \u001b[39m=\u001b[39m \u001b[39mFalse\u001b[39;00m\n\u001b[0;32m--> <a href='file:///~/anaconda3/envs/deepcvr/lib/python3.8/site-packages/pymysql/connections.py?line=724'>725</a>\u001b[0m     packet\u001b[39m.\u001b[39;49mraise_for_error()\n\u001b[1;32m    <a href='file:///~/anaconda3/envs/deepcvr/lib/python3.8/site-packages/pymysql/connections.py?line=725'>726</a>\u001b[0m \u001b[39mreturn\u001b[39;00m packet\n",
      "File \u001b[0;32m~/anaconda3/envs/deepcvr/lib/python3.8/site-packages/pymysql/protocol.py:221\u001b[0m, in \u001b[0;36mMysqlPacket.raise_for_error\u001b[0;34m(self)\u001b[0m\n\u001b[1;32m    <a href='file:///~/anaconda3/envs/deepcvr/lib/python3.8/site-packages/pymysql/protocol.py?line=219'>220</a>\u001b[0m     \u001b[39mprint\u001b[39m(\u001b[39m\"\u001b[39m\u001b[39merrno =\u001b[39m\u001b[39m\"\u001b[39m, errno)\n\u001b[0;32m--> <a href='file:///~/anaconda3/envs/deepcvr/lib/python3.8/site-packages/pymysql/protocol.py?line=220'>221</a>\u001b[0m err\u001b[39m.\u001b[39;49mraise_mysql_exception(\u001b[39mself\u001b[39;49m\u001b[39m.\u001b[39;49m_data)\n",
      "File \u001b[0;32m~/anaconda3/envs/deepcvr/lib/python3.8/site-packages/pymysql/err.py:143\u001b[0m, in \u001b[0;36mraise_mysql_exception\u001b[0;34m(data)\u001b[0m\n\u001b[1;32m    <a href='file:///~/anaconda3/envs/deepcvr/lib/python3.8/site-packages/pymysql/err.py?line=141'>142</a>\u001b[0m     errorclass \u001b[39m=\u001b[39m InternalError \u001b[39mif\u001b[39;00m errno \u001b[39m<\u001b[39m \u001b[39m1000\u001b[39m \u001b[39melse\u001b[39;00m OperationalError\n\u001b[0;32m--> <a href='file:///~/anaconda3/envs/deepcvr/lib/python3.8/site-packages/pymysql/err.py?line=142'>143</a>\u001b[0m \u001b[39mraise\u001b[39;00m errorclass(errno, errval)\n",
      "\u001b[0;31mOperationalError\u001b[0m: (1396, \"Operation CREATE USER failed for 'airflow_user'@'%'\")",
      "\nDuring handling of the above exception, another exception occurred:\n",
      "\u001b[0;31mException\u001b[0m                                 Traceback (most recent call last)",
      "\u001b[1;32m/home/john/projects/DeepCVR/notebooks/0_setup/0_backend.ipynb Cell 3'\u001b[0m in \u001b[0;36m<module>\u001b[0;34m\u001b[0m\n\u001b[1;32m      <a href='vscode-notebook-cell://wsl%2Bubuntu-20.04/home/john/projects/DeepCVR/notebooks/0_setup/0_backend.ipynb#ch0000003vscode-remote?line=3'>4</a>\u001b[0m db\u001b[39m.\u001b[39mconnect()\n\u001b[1;32m      <a href='vscode-notebook-cell://wsl%2Bubuntu-20.04/home/john/projects/DeepCVR/notebooks/0_setup/0_backend.ipynb#ch0000003vscode-remote?line=4'>5</a>\u001b[0m db\u001b[39m.\u001b[39mexecute(CreateAirflowDatabase)\n\u001b[0;32m----> <a href='vscode-notebook-cell://wsl%2Bubuntu-20.04/home/john/projects/DeepCVR/notebooks/0_setup/0_backend.ipynb#ch0000003vscode-remote?line=5'>6</a>\u001b[0m db\u001b[39m.\u001b[39;49mexecute(CreateAirflowUser)\n\u001b[1;32m      <a href='vscode-notebook-cell://wsl%2Bubuntu-20.04/home/john/projects/DeepCVR/notebooks/0_setup/0_backend.ipynb#ch0000003vscode-remote?line=6'>7</a>\u001b[0m db\u001b[39m.\u001b[39mexecute(GrantAirflowUser)\n\u001b[1;32m      <a href='vscode-notebook-cell://wsl%2Bubuntu-20.04/home/john/projects/DeepCVR/notebooks/0_setup/0_backend.ipynb#ch0000003vscode-remote?line=7'>8</a>\u001b[0m db\u001b[39m.\u001b[39mdisconnect()\n",
      "File \u001b[0;32m~/projects/DeepCVR/deepcvr/data/database.py:73\u001b[0m, in \u001b[0;36mDeepCVRDb.execute\u001b[0;34m(self, query)\u001b[0m\n\u001b[1;32m     <a href='file:///~/projects/DeepCVR/deepcvr/data/database.py?line=70'>71</a>\u001b[0m     logger\u001b[39m.\u001b[39merror(e)\n\u001b[1;32m     <a href='file:///~/projects/DeepCVR/deepcvr/data/database.py?line=71'>72</a>\u001b[0m     \u001b[39mself\u001b[39m\u001b[39m.\u001b[39mdisconnect()\n\u001b[0;32m---> <a href='file:///~/projects/DeepCVR/deepcvr/data/database.py?line=72'>73</a>\u001b[0m     \u001b[39mraise\u001b[39;00m \u001b[39mException\u001b[39;00m(e)\n\u001b[1;32m     <a href='file:///~/projects/DeepCVR/deepcvr/data/database.py?line=74'>75</a>\u001b[0m \u001b[39mfinally\u001b[39;00m:\n\u001b[1;32m     <a href='file:///~/projects/DeepCVR/deepcvr/data/database.py?line=75'>76</a>\u001b[0m     cursor\u001b[39m.\u001b[39mclose()\n",
      "\u001b[0;31mException\u001b[0m: (1396, \"Operation CREATE USER failed for 'airflow_user'@'%'\")"
     ]
    }
   ],
   "source": [
    "# Setup MYSQL Database\n",
    "config = MySQLConfig('mysql')\n",
    "db = DeepCVRDb(credentials=config)\n",
    "db.connect()\n",
    "db.execute(CreateAirflowDatabase)\n",
    "db.execute(CreateAirflowUser)\n",
    "db.execute(GrantAirflowUser)\n",
    "db.disconnect()"
   ]
  }
 ],
 "metadata": {
  "interpreter": {
   "hash": "b4c1728eb1d2e5aa0ad9cb608f2ae480dc35c5197350e729ffcd56015e38fc7c"
  },
  "kernelspec": {
   "display_name": "Python 3.8.12 ('deepcvr')",
   "language": "python",
   "name": "python3"
  },
  "language_info": {
   "codemirror_mode": {
    "name": "ipython",
    "version": 3
   },
   "file_extension": ".py",
   "mimetype": "text/x-python",
   "name": "python",
   "nbconvert_exporter": "python",
   "pygments_lexer": "ipython3",
   "version": "3.8.12"
  }
 },
 "nbformat": 4,
 "nbformat_minor": 2
}
